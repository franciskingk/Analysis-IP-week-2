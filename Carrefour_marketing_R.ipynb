{
  "nbformat": 4,
  "nbformat_minor": 0,
  "metadata": {
    "colab": {
      "name": "Carrefour_marketing.R",
      "provenance": [],
      "collapsed_sections": [],
      "authorship_tag": "ABX9TyMho0qw/PatNcV5YD/NKpuE",
      "include_colab_link": true
    },
    "kernelspec": {
      "name": "ir",
      "display_name": "R"
    },
    "language_info": {
      "name": "R"
    }
  },
  "cells": [
    {
      "cell_type": "markdown",
      "metadata": {
        "id": "view-in-github",
        "colab_type": "text"
      },
      "source": [
        "<a href=\"https://colab.research.google.com/github/franciskingk/Analysis-IP-week-2/blob/main/Carrefour_marketing_R.ipynb\" target=\"_parent\"><img src=\"https://colab.research.google.com/assets/colab-badge.svg\" alt=\"Open In Colab\"/></a>"
      ]
    },
    {
      "cell_type": "markdown",
      "source": [
        "## Carrefour research project"
      ],
      "metadata": {
        "id": "27pdn5VLESqw"
      }
    },
    {
      "cell_type": "markdown",
      "source": [
        "You are a Data analyst at Carrefour Kenya and are currently undertaking a project that will inform the marketing department on the most relevant marketing strategies that will result in the highest no. of sales (total price including tax). Your project has been divided into four parts where you'll explore a recent marketing dataset by performing various unsupervised learning techniques and later providing recommendations based on your insights."
      ],
      "metadata": {
        "id": "hPao8GyjEBF6"
      }
    },
    {
      "cell_type": "markdown",
      "source": [
        "## Dimensionality reduction"
      ],
      "metadata": {
        "id": "0J_kI7COEXE-"
      }
    },
    {
      "cell_type": "code",
      "execution_count": 123,
      "metadata": {
        "colab": {
          "base_uri": "https://localhost:8080/"
        },
        "id": "-mIJfpQ8Dt-s",
        "outputId": "f5e5c1e0-05dc-40e2-f380-15150eb791da"
      },
      "outputs": [
        {
          "output_type": "stream",
          "name": "stderr",
          "text": [
            "Installing package into ‘/usr/local/lib/R/site-library’\n",
            "(as ‘lib’ is unspecified)\n",
            "\n",
            "Loading required package: Matrix\n",
            "\n",
            "\n",
            "Attaching package: ‘Matrix’\n",
            "\n",
            "\n",
            "The following objects are masked from ‘package:tidyr’:\n",
            "\n",
            "    expand, pack, unpack\n",
            "\n",
            "\n",
            "\n",
            "Attaching package: ‘arules’\n",
            "\n",
            "\n",
            "The following object is masked from ‘package:dplyr’:\n",
            "\n",
            "    recode\n",
            "\n",
            "\n",
            "The following objects are masked from ‘package:base’:\n",
            "\n",
            "    abbreviate, write\n",
            "\n",
            "\n",
            "Installing package into ‘/usr/local/lib/R/site-library’\n",
            "(as ‘lib’ is unspecified)\n",
            "\n",
            "also installing the dependencies ‘zoo’, ‘tweenr’, ‘polyclip’, ‘RcppEigen’, ‘gridExtra’, ‘RcppArmadillo’, ‘later’, ‘TSP’, ‘qap’, ‘gclus’, ‘registry’, ‘lmtest’, ‘ggforce’, ‘ggrepel’, ‘viridis’, ‘tidygraph’, ‘graphlayouts’, ‘htmlwidgets’, ‘crosstalk’, ‘promises’, ‘lazyeval’, ‘seriation’, ‘vcd’, ‘igraph’, ‘scatterplot3d’, ‘ggraph’, ‘DT’, ‘plotly’, ‘visNetwork’\n",
            "\n",
            "\n"
          ]
        }
      ],
      "source": [
        "# installing the libraries\n",
        "library(data.table)\n",
        "library(tidyverse)\n",
        "#install.packages('corrplot')\n",
        "library(corrplot)\n",
        "library(ggplot2)\n",
        "library(dplyr)\n",
        "#install.packages('caret')\n",
        "library(caret)\n",
        "install.packages('arules')\n",
        "library(arules)\n",
        "install.packages(\"arulesViz\")\n",
        "library(arulesViz)"
      ]
    },
    {
      "cell_type": "code",
      "source": [
        "#reading the dataset\n",
        "df <- read.csv('http://bit.ly/CarreFourDataset')\n",
        "head(df)"
      ],
      "metadata": {
        "colab": {
          "base_uri": "https://localhost:8080/",
          "height": 410
        },
        "id": "CbvzgJqgEv2x",
        "outputId": "50d992f4-d8b7-4d71-d19c-250201e5c674"
      },
      "execution_count": 4,
      "outputs": [
        {
          "output_type": "display_data",
          "data": {
            "text/plain": [
              "  Invoice.ID  Branch Customer.type Gender Product.line           Unit.price\n",
              "1 750-67-8428 A      Member        Female Health and beauty      74.69     \n",
              "2 226-31-3081 C      Normal        Female Electronic accessories 15.28     \n",
              "3 631-41-3108 A      Normal        Male   Home and lifestyle     46.33     \n",
              "4 123-19-1176 A      Member        Male   Health and beauty      58.22     \n",
              "5 373-73-7910 A      Normal        Male   Sports and travel      86.31     \n",
              "6 699-14-3026 C      Normal        Male   Electronic accessories 85.39     \n",
              "  Quantity Tax     Date      Time  Payment     cogs   gross.margin.percentage\n",
              "1 7        26.1415 1/5/2019  13:08 Ewallet     522.83 4.761905               \n",
              "2 5         3.8200 3/8/2019  10:29 Cash         76.40 4.761905               \n",
              "3 7        16.2155 3/3/2019  13:23 Credit card 324.31 4.761905               \n",
              "4 8        23.2880 1/27/2019 20:33 Ewallet     465.76 4.761905               \n",
              "5 7        30.2085 2/8/2019  10:37 Ewallet     604.17 4.761905               \n",
              "6 7        29.8865 3/25/2019 18:30 Ewallet     597.73 4.761905               \n",
              "  gross.income Rating Total   \n",
              "1 26.1415      9.1    548.9715\n",
              "2  3.8200      9.6     80.2200\n",
              "3 16.2155      7.4    340.5255\n",
              "4 23.2880      8.4    489.0480\n",
              "5 30.2085      5.3    634.3785\n",
              "6 29.8865      4.1    627.6165"
            ],
            "text/latex": "A data.frame: 6 × 16\n\\begin{tabular}{r|llllllllllllllll}\n  & Invoice.ID & Branch & Customer.type & Gender & Product.line & Unit.price & Quantity & Tax & Date & Time & Payment & cogs & gross.margin.percentage & gross.income & Rating & Total\\\\\n  & <chr> & <chr> & <chr> & <chr> & <chr> & <dbl> & <int> & <dbl> & <chr> & <chr> & <chr> & <dbl> & <dbl> & <dbl> & <dbl> & <dbl>\\\\\n\\hline\n\t1 & 750-67-8428 & A & Member & Female & Health and beauty      & 74.69 & 7 & 26.1415 & 1/5/2019  & 13:08 & Ewallet     & 522.83 & 4.761905 & 26.1415 & 9.1 & 548.9715\\\\\n\t2 & 226-31-3081 & C & Normal & Female & Electronic accessories & 15.28 & 5 &  3.8200 & 3/8/2019  & 10:29 & Cash        &  76.40 & 4.761905 &  3.8200 & 9.6 &  80.2200\\\\\n\t3 & 631-41-3108 & A & Normal & Male   & Home and lifestyle     & 46.33 & 7 & 16.2155 & 3/3/2019  & 13:23 & Credit card & 324.31 & 4.761905 & 16.2155 & 7.4 & 340.5255\\\\\n\t4 & 123-19-1176 & A & Member & Male   & Health and beauty      & 58.22 & 8 & 23.2880 & 1/27/2019 & 20:33 & Ewallet     & 465.76 & 4.761905 & 23.2880 & 8.4 & 489.0480\\\\\n\t5 & 373-73-7910 & A & Normal & Male   & Sports and travel      & 86.31 & 7 & 30.2085 & 2/8/2019  & 10:37 & Ewallet     & 604.17 & 4.761905 & 30.2085 & 5.3 & 634.3785\\\\\n\t6 & 699-14-3026 & C & Normal & Male   & Electronic accessories & 85.39 & 7 & 29.8865 & 3/25/2019 & 18:30 & Ewallet     & 597.73 & 4.761905 & 29.8865 & 4.1 & 627.6165\\\\\n\\end{tabular}\n",
            "text/markdown": "\nA data.frame: 6 × 16\n\n| <!--/--> | Invoice.ID &lt;chr&gt; | Branch &lt;chr&gt; | Customer.type &lt;chr&gt; | Gender &lt;chr&gt; | Product.line &lt;chr&gt; | Unit.price &lt;dbl&gt; | Quantity &lt;int&gt; | Tax &lt;dbl&gt; | Date &lt;chr&gt; | Time &lt;chr&gt; | Payment &lt;chr&gt; | cogs &lt;dbl&gt; | gross.margin.percentage &lt;dbl&gt; | gross.income &lt;dbl&gt; | Rating &lt;dbl&gt; | Total &lt;dbl&gt; |\n|---|---|---|---|---|---|---|---|---|---|---|---|---|---|---|---|---|\n| 1 | 750-67-8428 | A | Member | Female | Health and beauty      | 74.69 | 7 | 26.1415 | 1/5/2019  | 13:08 | Ewallet     | 522.83 | 4.761905 | 26.1415 | 9.1 | 548.9715 |\n| 2 | 226-31-3081 | C | Normal | Female | Electronic accessories | 15.28 | 5 |  3.8200 | 3/8/2019  | 10:29 | Cash        |  76.40 | 4.761905 |  3.8200 | 9.6 |  80.2200 |\n| 3 | 631-41-3108 | A | Normal | Male   | Home and lifestyle     | 46.33 | 7 | 16.2155 | 3/3/2019  | 13:23 | Credit card | 324.31 | 4.761905 | 16.2155 | 7.4 | 340.5255 |\n| 4 | 123-19-1176 | A | Member | Male   | Health and beauty      | 58.22 | 8 | 23.2880 | 1/27/2019 | 20:33 | Ewallet     | 465.76 | 4.761905 | 23.2880 | 8.4 | 489.0480 |\n| 5 | 373-73-7910 | A | Normal | Male   | Sports and travel      | 86.31 | 7 | 30.2085 | 2/8/2019  | 10:37 | Ewallet     | 604.17 | 4.761905 | 30.2085 | 5.3 | 634.3785 |\n| 6 | 699-14-3026 | C | Normal | Male   | Electronic accessories | 85.39 | 7 | 29.8865 | 3/25/2019 | 18:30 | Ewallet     | 597.73 | 4.761905 | 29.8865 | 4.1 | 627.6165 |\n\n",
            "text/html": [
              "<table class=\"dataframe\">\n",
              "<caption>A data.frame: 6 × 16</caption>\n",
              "<thead>\n",
              "\t<tr><th></th><th scope=col>Invoice.ID</th><th scope=col>Branch</th><th scope=col>Customer.type</th><th scope=col>Gender</th><th scope=col>Product.line</th><th scope=col>Unit.price</th><th scope=col>Quantity</th><th scope=col>Tax</th><th scope=col>Date</th><th scope=col>Time</th><th scope=col>Payment</th><th scope=col>cogs</th><th scope=col>gross.margin.percentage</th><th scope=col>gross.income</th><th scope=col>Rating</th><th scope=col>Total</th></tr>\n",
              "\t<tr><th></th><th scope=col>&lt;chr&gt;</th><th scope=col>&lt;chr&gt;</th><th scope=col>&lt;chr&gt;</th><th scope=col>&lt;chr&gt;</th><th scope=col>&lt;chr&gt;</th><th scope=col>&lt;dbl&gt;</th><th scope=col>&lt;int&gt;</th><th scope=col>&lt;dbl&gt;</th><th scope=col>&lt;chr&gt;</th><th scope=col>&lt;chr&gt;</th><th scope=col>&lt;chr&gt;</th><th scope=col>&lt;dbl&gt;</th><th scope=col>&lt;dbl&gt;</th><th scope=col>&lt;dbl&gt;</th><th scope=col>&lt;dbl&gt;</th><th scope=col>&lt;dbl&gt;</th></tr>\n",
              "</thead>\n",
              "<tbody>\n",
              "\t<tr><th scope=row>1</th><td>750-67-8428</td><td>A</td><td>Member</td><td>Female</td><td>Health and beauty     </td><td>74.69</td><td>7</td><td>26.1415</td><td>1/5/2019 </td><td>13:08</td><td>Ewallet    </td><td>522.83</td><td>4.761905</td><td>26.1415</td><td>9.1</td><td>548.9715</td></tr>\n",
              "\t<tr><th scope=row>2</th><td>226-31-3081</td><td>C</td><td>Normal</td><td>Female</td><td>Electronic accessories</td><td>15.28</td><td>5</td><td> 3.8200</td><td>3/8/2019 </td><td>10:29</td><td>Cash       </td><td> 76.40</td><td>4.761905</td><td> 3.8200</td><td>9.6</td><td> 80.2200</td></tr>\n",
              "\t<tr><th scope=row>3</th><td>631-41-3108</td><td>A</td><td>Normal</td><td>Male  </td><td>Home and lifestyle    </td><td>46.33</td><td>7</td><td>16.2155</td><td>3/3/2019 </td><td>13:23</td><td>Credit card</td><td>324.31</td><td>4.761905</td><td>16.2155</td><td>7.4</td><td>340.5255</td></tr>\n",
              "\t<tr><th scope=row>4</th><td>123-19-1176</td><td>A</td><td>Member</td><td>Male  </td><td>Health and beauty     </td><td>58.22</td><td>8</td><td>23.2880</td><td>1/27/2019</td><td>20:33</td><td>Ewallet    </td><td>465.76</td><td>4.761905</td><td>23.2880</td><td>8.4</td><td>489.0480</td></tr>\n",
              "\t<tr><th scope=row>5</th><td>373-73-7910</td><td>A</td><td>Normal</td><td>Male  </td><td>Sports and travel     </td><td>86.31</td><td>7</td><td>30.2085</td><td>2/8/2019 </td><td>10:37</td><td>Ewallet    </td><td>604.17</td><td>4.761905</td><td>30.2085</td><td>5.3</td><td>634.3785</td></tr>\n",
              "\t<tr><th scope=row>6</th><td>699-14-3026</td><td>C</td><td>Normal</td><td>Male  </td><td>Electronic accessories</td><td>85.39</td><td>7</td><td>29.8865</td><td>3/25/2019</td><td>18:30</td><td>Ewallet    </td><td>597.73</td><td>4.761905</td><td>29.8865</td><td>4.1</td><td>627.6165</td></tr>\n",
              "</tbody>\n",
              "</table>\n"
            ]
          },
          "metadata": {}
        }
      ]
    },
    {
      "cell_type": "code",
      "source": [
        "# checking the data for duplicates\n",
        "duplicated(df)\n",
        "# there are no duplicates"
      ],
      "metadata": {
        "id": "BMwN-jARFIbQ"
      },
      "execution_count": null,
      "outputs": []
    },
    {
      "cell_type": "code",
      "source": [
        "# checking for null values\n",
        "colSums(is.na(df))\n",
        "#there are no nulls"
      ],
      "metadata": {
        "colab": {
          "base_uri": "https://localhost:8080/",
          "height": 69
        },
        "id": "zg4kn4opFW88",
        "outputId": "c0600d9f-1409-49c2-cd58-f4fc04d2d9ff"
      },
      "execution_count": 7,
      "outputs": [
        {
          "output_type": "display_data",
          "data": {
            "text/plain": [
              "             Invoice.ID                  Branch           Customer.type \n",
              "                      0                       0                       0 \n",
              "                 Gender            Product.line              Unit.price \n",
              "                      0                       0                       0 \n",
              "               Quantity                     Tax                    Date \n",
              "                      0                       0                       0 \n",
              "                   Time                 Payment                    cogs \n",
              "                      0                       0                       0 \n",
              "gross.margin.percentage            gross.income                  Rating \n",
              "                      0                       0                       0 \n",
              "                  Total \n",
              "                      0 "
            ],
            "text/latex": "\\begin{description*}\n\\item[Invoice.ID] 0\n\\item[Branch] 0\n\\item[Customer.type] 0\n\\item[Gender] 0\n\\item[Product.line] 0\n\\item[Unit.price] 0\n\\item[Quantity] 0\n\\item[Tax] 0\n\\item[Date] 0\n\\item[Time] 0\n\\item[Payment] 0\n\\item[cogs] 0\n\\item[gross.margin.percentage] 0\n\\item[gross.income] 0\n\\item[Rating] 0\n\\item[Total] 0\n\\end{description*}\n",
            "text/markdown": "Invoice.ID\n:   0Branch\n:   0Customer.type\n:   0Gender\n:   0Product.line\n:   0Unit.price\n:   0Quantity\n:   0Tax\n:   0Date\n:   0Time\n:   0Payment\n:   0cogs\n:   0gross.margin.percentage\n:   0gross.income\n:   0Rating\n:   0Total\n:   0\n\n",
            "text/html": [
              "<style>\n",
              ".dl-inline {width: auto; margin:0; padding: 0}\n",
              ".dl-inline>dt, .dl-inline>dd {float: none; width: auto; display: inline-block}\n",
              ".dl-inline>dt::after {content: \":\\0020\"; padding-right: .5ex}\n",
              ".dl-inline>dt:not(:first-of-type) {padding-left: .5ex}\n",
              "</style><dl class=dl-inline><dt>Invoice.ID</dt><dd>0</dd><dt>Branch</dt><dd>0</dd><dt>Customer.type</dt><dd>0</dd><dt>Gender</dt><dd>0</dd><dt>Product.line</dt><dd>0</dd><dt>Unit.price</dt><dd>0</dd><dt>Quantity</dt><dd>0</dd><dt>Tax</dt><dd>0</dd><dt>Date</dt><dd>0</dd><dt>Time</dt><dd>0</dd><dt>Payment</dt><dd>0</dd><dt>cogs</dt><dd>0</dd><dt>gross.margin.percentage</dt><dd>0</dd><dt>gross.income</dt><dd>0</dd><dt>Rating</dt><dd>0</dd><dt>Total</dt><dd>0</dd></dl>\n"
            ]
          },
          "metadata": {}
        }
      ]
    },
    {
      "cell_type": "code",
      "source": [
        "# outliers in the quantity data\n",
        "boxplot(df$Quantity)"
      ],
      "metadata": {
        "colab": {
          "base_uri": "https://localhost:8080/",
          "height": 437
        },
        "id": "m4lKUt3AFjh4",
        "outputId": "578d1188-058c-4ddf-e711-66a1b7836c0d"
      },
      "execution_count": 13,
      "outputs": [
        {
          "output_type": "display_data",
          "data": {
            "image/png": "[encoded data removed]",
            "text/plain": [
              "plot without title"
            ]
          },
          "metadata": {
            "image/png": {
              "width": 420,
              "height": 420
            }
          }
        }
      ]
    },
    {
      "cell_type": "code",
      "source": [
        "# outliers in total\n",
        "boxplot(df$Total)\n",
        "# there are few outliers in total column"
      ],
      "metadata": {
        "colab": {
          "base_uri": "https://localhost:8080/",
          "height": 437
        },
        "id": "UNnKF4CAGJqT",
        "outputId": "304660fa-0eef-4e76-e118-80c97b89d5db"
      },
      "execution_count": 14,
      "outputs": [
        {
          "output_type": "display_data",
          "data": {
            "image/png": "[encoded data removed]",
            "text/plain": [
              "plot without title"
            ]
          },
          "metadata": {
            "image/png": {
              "width": 420,
              "height": 420
            }
          }
        }
      ]
    },
    {
      "cell_type": "code",
      "source": [
        "# plotting to see most used payment method\n",
        "method <- df$Payment\n",
        "method_table <- table(method)\n",
        "barplot(method_table,ylab= 'Use frequency')"
      ],
      "metadata": {
        "colab": {
          "base_uri": "https://localhost:8080/",
          "height": 437
        },
        "id": "rfIj1COOGjsM",
        "outputId": "2332d130-f270-4121-a756-73b6c925ff51"
      },
      "execution_count": 19,
      "outputs": [
        {
          "output_type": "display_data",
          "data": {
            "image/png": "[encoded data removed]",
            "text/plain": [
              "plot without title"
            ]
          },
          "metadata": {
            "image/png": {
              "width": 420,
              "height": 420
            }
          }
        }
      ]
    },
    {
      "cell_type": "code",
      "source": [
        "# plotting to see the most customer type\n",
        "customer <- df$Customer.type\n",
        "customer_count <- table(customer)\n",
        "pie(customer_count)\n",
        "# both member and non member customers haver the same frequency. "
      ],
      "metadata": {
        "colab": {
          "base_uri": "https://localhost:8080/",
          "height": 437
        },
        "id": "MyGf3D86IqDb",
        "outputId": "48115590-77be-467f-9c35-19fb9d24e06a"
      },
      "execution_count": 24,
      "outputs": [
        {
          "output_type": "display_data",
          "data": {
            "image/png": "[encoded data removed]",
            "text/plain": [
              "plot without title"
            ]
          },
          "metadata": {
            "image/png": {
              "width": 420,
              "height": 420
            }
          }
        }
      ]
    },
    {
      "cell_type": "code",
      "source": [
        "# well use pca for this reduction thus encoding to numeric\n",
        "#removing Time and ID columns not in use.\n",
        "real_variables<-dummyVars(\"~.\",data=df[,-c(1,9,10)])\n",
        "real_variables"
      ],
      "metadata": {
        "colab": {
          "base_uri": "https://localhost:8080/",
          "height": 145
        },
        "id": "WNrHjYOGHKqa",
        "outputId": "57c0a4b3-fafd-496f-f811-91da83c7259a"
      },
      "execution_count": 84,
      "outputs": [
        {
          "output_type": "display_data",
          "data": {
            "text/plain": [
              "Dummy Variable Object\n",
              "\n",
              "Formula: ~.\n",
              "<environment: 0x55ff9341ec48>\n",
              "13 variables, 1 factors\n",
              "Variables and levels will be separated by '.'\n",
              "A less than full rank encoding is used"
            ]
          },
          "metadata": {}
        }
      ]
    },
    {
      "cell_type": "code",
      "source": [
        "real_df<-data.frame(predict(real_variables,newdata =df[,-c(1,9,10)]))\n",
        "real_df"
      ],
      "metadata": {
        "colab": {
          "base_uri": "https://localhost:8080/",
          "height": 1000
        },
        "id": "AYxCPmolhoW0",
        "outputId": "31dc6bb8-8907-4145-8607-449e0f51950a"
      },
      "execution_count": 85,
      "outputs": [
        {
          "output_type": "display_data",
          "data": {
            "text/plain": [
              "     BranchA BranchB BranchC Customer.type.Member Customer.type.Normal\n",
              "1    1       0       0       1                    0                   \n",
              "2    0       0       1       0                    1                   \n",
              "3    1       0       0       0                    1                   \n",
              "4    1       0       0       1                    0                   \n",
              "5    1       0       0       0                    1                   \n",
              "6    0       0       1       0                    1                   \n",
              "7    1       0       0       1                    0                   \n",
              "8    0       0       1       0                    1                   \n",
              "9    1       0       0       1                    0                   \n",
              "10   0       1       0       1                    0                   \n",
              "11   0       1       0       1                    0                   \n",
              "12   0       1       0       1                    0                   \n",
              "13   1       0       0       0                    1                   \n",
              "14   1       0       0       0                    1                   \n",
              "15   1       0       0       0                    1                   \n",
              "16   0       1       0       1                    0                   \n",
              "17   1       0       0       1                    0                   \n",
              "18   1       0       0       0                    1                   \n",
              "19   1       0       0       0                    1                   \n",
              "20   0       1       0       0                    1                   \n",
              "21   0       0       1       1                    0                   \n",
              "22   0       1       0       0                    1                   \n",
              "23   0       1       0       0                    1                   \n",
              "24   1       0       0       0                    1                   \n",
              "25   1       0       0       1                    0                   \n",
              "26   1       0       0       1                    0                   \n",
              "27   0       1       0       0                    1                   \n",
              "28   1       0       0       0                    1                   \n",
              "29   0       1       0       0                    1                   \n",
              "30   1       0       0       0                    1                   \n",
              "⋮    ⋮       ⋮       ⋮       ⋮                    ⋮                   \n",
              "971  0       1       0       1                    0                   \n",
              "972  0       1       0       1                    0                   \n",
              "973  0       1       0       0                    1                   \n",
              "974  1       0       0       0                    1                   \n",
              "975  0       0       1       0                    1                   \n",
              "976  0       1       0       1                    0                   \n",
              "977  1       0       0       0                    1                   \n",
              "978  0       1       0       1                    0                   \n",
              "979  0       1       0       0                    1                   \n",
              "980  0       1       0       0                    1                   \n",
              "981  0       0       1       1                    0                   \n",
              "982  1       0       0       0                    1                   \n",
              "983  1       0       0       1                    0                   \n",
              "984  0       0       1       0                    1                   \n",
              "985  0       0       1       0                    1                   \n",
              "986  0       1       0       0                    1                   \n",
              "987  0       1       0       0                    1                   \n",
              "988  0       1       0       1                    0                   \n",
              "989  0       0       1       1                    0                   \n",
              "990  0       1       0       1                    0                   \n",
              "991  1       0       0       0                    1                   \n",
              "992  0       1       0       0                    1                   \n",
              "993  1       0       0       0                    1                   \n",
              "994  0       1       0       0                    1                   \n",
              "995  0       0       1       1                    0                   \n",
              "996  0       0       1       0                    1                   \n",
              "997  0       1       0       0                    1                   \n",
              "998  1       0       0       1                    0                   \n",
              "999  1       0       0       0                    1                   \n",
              "1000 1       0       0       1                    0                   \n",
              "     GenderFemale GenderMale Product.lineElectronic.accessories\n",
              "1    1            0          0                                 \n",
              "2    1            0          1                                 \n",
              "3    0            1          0                                 \n",
              "4    0            1          0                                 \n",
              "5    0            1          0                                 \n",
              "6    0            1          1                                 \n",
              "7    1            0          1                                 \n",
              "8    1            0          0                                 \n",
              "9    1            0          0                                 \n",
              "10   1            0          0                                 \n",
              "11   1            0          0                                 \n",
              "12   0            1          1                                 \n",
              "13   1            0          1                                 \n",
              "14   0            1          0                                 \n",
              "15   1            0          0                                 \n",
              "16   1            0          0                                 \n",
              "17   1            0          0                                 \n",
              "18   0            1          0                                 \n",
              "19   0            1          0                                 \n",
              "20   1            0          0                                 \n",
              "21   0            1          1                                 \n",
              "22   0            1          0                                 \n",
              "23   0            1          0                                 \n",
              "24   0            1          1                                 \n",
              "25   0            1          0                                 \n",
              "26   1            0          0                                 \n",
              "27   0            1          0                                 \n",
              "28   1            0          0                                 \n",
              "29   1            0          0                                 \n",
              "30   0            1          0                                 \n",
              "⋮    ⋮            ⋮          ⋮                                 \n",
              "971  1            0          0                                 \n",
              "972  0            1          0                                 \n",
              "973  0            1          1                                 \n",
              "974  0            1          0                                 \n",
              "975  0            1          0                                 \n",
              "976  0            1          0                                 \n",
              "977  1            0          0                                 \n",
              "978  0            1          0                                 \n",
              "979  1            0          1                                 \n",
              "980  1            0          0                                 \n",
              "981  0            1          0                                 \n",
              "982  0            1          0                                 \n",
              "983  1            0          0                                 \n",
              "984  0            1          0                                 \n",
              "985  0            1          1                                 \n",
              "986  1            0          0                                 \n",
              "987  1            0          0                                 \n",
              "988  0            1          0                                 \n",
              "989  0            1          1                                 \n",
              "990  0            1          0                                 \n",
              "991  1            0          0                                 \n",
              "992  1            0          0                                 \n",
              "993  0            1          1                                 \n",
              "994  0            1          0                                 \n",
              "995  1            0          1                                 \n",
              "996  0            1          0                                 \n",
              "997  1            0          0                                 \n",
              "998  0            1          0                                 \n",
              "999  0            1          0                                 \n",
              "1000 1            0          0                                 \n",
              "     Product.lineFashion.accessories Product.lineFood.and.beverages ⋯ Quantity\n",
              "1    0                               0                              ⋯  7      \n",
              "2    0                               0                              ⋯  5      \n",
              "3    0                               0                              ⋯  7      \n",
              "4    0                               0                              ⋯  8      \n",
              "5    0                               0                              ⋯  7      \n",
              "6    0                               0                              ⋯  7      \n",
              "7    0                               0                              ⋯  6      \n",
              "8    0                               0                              ⋯ 10      \n",
              "9    0                               0                              ⋯  2      \n",
              "10   0                               1                              ⋯  3      \n",
              "11   1                               0                              ⋯  4      \n",
              "12   0                               0                              ⋯  4      \n",
              "13   0                               0                              ⋯  5      \n",
              "14   0                               1                              ⋯ 10      \n",
              "15   0                               0                              ⋯ 10      \n",
              "16   0                               0                              ⋯  6      \n",
              "17   0                               0                              ⋯  7      \n",
              "18   0                               0                              ⋯  6      \n",
              "19   0                               1                              ⋯  3      \n",
              "20   0                               0                              ⋯  2      \n",
              "21   0                               0                              ⋯  5      \n",
              "22   0                               0                              ⋯  3      \n",
              "23   0                               0                              ⋯  2      \n",
              "24   0                               0                              ⋯  5      \n",
              "25   0                               0                              ⋯  3      \n",
              "26   0                               0                              ⋯  8      \n",
              "27   1                               0                              ⋯  1      \n",
              "28   1                               0                              ⋯  2      \n",
              "29   0                               1                              ⋯  5      \n",
              "30   0                               0                              ⋯  9      \n",
              "⋮    ⋮                               ⋮                              ⋱ ⋮       \n",
              "971  0                               1                              ⋯ 10      \n",
              "972  0                               0                              ⋯  7      \n",
              "973  0                               0                              ⋯  7      \n",
              "974  0                               0                              ⋯  3      \n",
              "975  1                               0                              ⋯  2      \n",
              "976  1                               0                              ⋯  2      \n",
              "977  0                               1                              ⋯  4      \n",
              "978  0                               1                              ⋯  6      \n",
              "979  0                               0                              ⋯  1      \n",
              "980  0                               1                              ⋯  1      \n",
              "981  0                               1                              ⋯  4      \n",
              "982  0                               0                              ⋯  4      \n",
              "983  0                               0                              ⋯  9      \n",
              "984  0                               0                              ⋯  7      \n",
              "985  0                               0                              ⋯  7      \n",
              "986  1                               0                              ⋯  5      \n",
              "987  0                               0                              ⋯  2      \n",
              "988  0                               0                              ⋯  8      \n",
              "989  0                               0                              ⋯ 10      \n",
              "990  0                               0                              ⋯  8      \n",
              "991  0                               1                              ⋯  5      \n",
              "992  0                               0                              ⋯ 10      \n",
              "993  0                               0                              ⋯  2      \n",
              "994  1                               0                              ⋯ 10      \n",
              "995  0                               0                              ⋯  1      \n",
              "996  0                               0                              ⋯  1      \n",
              "997  0                               0                              ⋯ 10      \n",
              "998  0                               1                              ⋯  1      \n",
              "999  0                               0                              ⋯  1      \n",
              "1000 1                               0                              ⋯  7      \n",
              "     Tax     PaymentCash PaymentCredit.card PaymentEwallet cogs  \n",
              "1    26.1415 0           0                  1              522.83\n",
              "2     3.8200 1           0                  0               76.40\n",
              "3    16.2155 0           1                  0              324.31\n",
              "4    23.2880 0           0                  1              465.76\n",
              "5    30.2085 0           0                  1              604.17\n",
              "6    29.8865 0           0                  1              597.73\n",
              "7    20.6520 0           0                  1              413.04\n",
              "8    36.7800 0           0                  1              735.60\n",
              "9     3.6260 0           1                  0               72.52\n",
              "10    8.2260 0           1                  0              164.52\n",
              "11    2.8960 0           0                  1               57.92\n",
              "12    5.1020 1           0                  0              102.04\n",
              "13   11.7375 0           0                  1              234.75\n",
              "14   21.5950 0           0                  1              431.90\n",
              "15   35.6900 1           0                  0              713.80\n",
              "16   28.1160 1           0                  0              562.32\n",
              "17   24.1255 0           1                  0              482.51\n",
              "18   21.7830 0           1                  0              435.66\n",
              "19    8.2005 0           1                  0              164.01\n",
              "20    4.0300 0           0                  1               80.60\n",
              "21   21.5100 0           0                  1              430.20\n",
              "22   13.1970 0           0                  1              263.94\n",
              "23    3.3200 0           1                  0               66.40\n",
              "24    8.6400 0           0                  1              172.80\n",
              "25   13.2945 0           0                  1              265.89\n",
              "26   21.0360 0           1                  0              420.72\n",
              "27    1.6760 1           0                  0               33.52\n",
              "28    8.7670 0           1                  0              175.34\n",
              "29   22.0900 1           0                  0              441.80\n",
              "30   11.2005 1           0                  0              224.01\n",
              "⋮    ⋮       ⋮           ⋮                  ⋮              ⋮     \n",
              "971  42.3150 0           1                  0              846.30\n",
              "972  12.9185 0           0                  1              258.37\n",
              "973  30.4780 1           0                  0              609.56\n",
              "974  12.0120 1           0                  0              240.24\n",
              "975   8.6130 1           0                  0              172.26\n",
              "976   4.9920 0           1                  0               99.84\n",
              "977  14.9320 1           0                  0              298.64\n",
              "978   7.9800 0           0                  1              159.60\n",
              "979   1.2725 0           1                  0               25.45\n",
              "980   3.3885 0           1                  0               67.77\n",
              "981  11.9180 1           0                  0              238.36\n",
              "982  11.6300 1           0                  0              232.60\n",
              "983  43.8660 0           0                  1              877.32\n",
              "984  34.9860 1           0                  0              699.72\n",
              "985  33.7295 1           0                  0              674.59\n",
              "986  15.9275 0           0                  1              318.55\n",
              "987   1.4760 0           0                  1               29.52\n",
              "988  24.8000 0           1                  0              496.00\n",
              "989  41.1700 0           0                  1              823.40\n",
              "990  30.1480 0           1                  0              602.96\n",
              "991  14.1400 0           1                  0              282.80\n",
              "992  38.3000 0           0                  1              766.00\n",
              "993   5.8030 0           0                  1              116.06\n",
              "994   8.7450 0           0                  1              174.90\n",
              "995   3.0475 0           0                  1               60.95\n",
              "996   2.0175 0           0                  1               40.35\n",
              "997  48.6900 0           0                  1              973.80\n",
              "998   1.5920 1           0                  0               31.84\n",
              "999   3.2910 1           0                  0               65.82\n",
              "1000 30.9190 1           0                  0              618.38\n",
              "     gross.margin.percentage gross.income Rating Total    \n",
              "1    4.761905                26.1415      9.1    548.9715 \n",
              "2    4.761905                 3.8200      9.6     80.2200 \n",
              "3    4.761905                16.2155      7.4    340.5255 \n",
              "4    4.761905                23.2880      8.4    489.0480 \n",
              "5    4.761905                30.2085      5.3    634.3785 \n",
              "6    4.761905                29.8865      4.1    627.6165 \n",
              "7    4.761905                20.6520      5.8    433.6920 \n",
              "8    4.761905                36.7800      8.0    772.3800 \n",
              "9    4.761905                 3.6260      7.2     76.1460 \n",
              "10   4.761905                 8.2260      5.9    172.7460 \n",
              "11   4.761905                 2.8960      4.5     60.8160 \n",
              "12   4.761905                 5.1020      6.8    107.1420 \n",
              "13   4.761905                11.7375      7.1    246.4875 \n",
              "14   4.761905                21.5950      8.2    453.4950 \n",
              "15   4.761905                35.6900      5.7    749.4900 \n",
              "16   4.761905                28.1160      4.5    590.4360 \n",
              "17   4.761905                24.1255      4.6    506.6355 \n",
              "18   4.761905                21.7830      6.9    457.4430 \n",
              "19   4.761905                 8.2005      8.6    172.2105 \n",
              "20   4.761905                 4.0300      4.4     84.6300 \n",
              "21   4.761905                21.5100      4.8    451.7100 \n",
              "22   4.761905                13.1970      5.1    277.1370 \n",
              "23   4.761905                 3.3200      4.4     69.7200 \n",
              "24   4.761905                 8.6400      9.9    181.4400 \n",
              "25   4.761905                13.2945      6.0    279.1845 \n",
              "26   4.761905                21.0360      8.5    441.7560 \n",
              "27   4.761905                 1.6760      6.7     35.1960 \n",
              "28   4.761905                 8.7670      7.7    184.1070 \n",
              "29   4.761905                22.0900      9.6    463.8900 \n",
              "30   4.761905                11.2005      7.4    235.2105 \n",
              "⋮    ⋮                       ⋮            ⋮      ⋮        \n",
              "971  4.761905                42.3150      9.0     888.6150\n",
              "972  4.761905                12.9185      6.7     271.2885\n",
              "973  4.761905                30.4780      5.5     640.0380\n",
              "974  4.761905                12.0120      5.4     252.2520\n",
              "975  4.761905                 8.6130      8.2     180.8730\n",
              "976  4.761905                 4.9920      7.0     104.8320\n",
              "977  4.761905                14.9320      8.5     313.5720\n",
              "978  4.761905                 7.9800      4.9     167.5800\n",
              "979  4.761905                 1.2725      5.1      26.7225\n",
              "980  4.761905                 3.3885      6.5      71.1585\n",
              "981  4.761905                11.9180      9.8     250.2780\n",
              "982  4.761905                11.6300      8.4     244.2300\n",
              "983  4.761905                43.8660      7.4     921.1860\n",
              "984  4.761905                34.9860      6.1     734.7060\n",
              "985  4.761905                33.7295      6.0     708.3195\n",
              "986  4.761905                15.9275      8.5     334.4775\n",
              "987  4.761905                 1.4760      4.3      30.9960\n",
              "988  4.761905                24.8000      6.2     520.8000\n",
              "989  4.761905                41.1700      4.3     864.5700\n",
              "990  4.761905                30.1480      8.4     633.1080\n",
              "991  4.761905                14.1400      4.5     296.9400\n",
              "992  4.761905                38.3000      6.0     804.3000\n",
              "993  4.761905                 5.8030      8.8     121.8630\n",
              "994  4.761905                 8.7450      6.6     183.6450\n",
              "995  4.761905                 3.0475      5.9      63.9975\n",
              "996  4.761905                 2.0175      6.2      42.3675\n",
              "997  4.761905                48.6900      4.4    1022.4900\n",
              "998  4.761905                 1.5920      7.7      33.4320\n",
              "999  4.761905                 3.2910      4.1      69.1110\n",
              "1000 4.761905                30.9190      6.6     649.2990"
            ],
            "text/latex": "A data.frame: 1000 × 24\n\\begin{tabular}{r|lllllllllllllllllllll}\n  & BranchA & BranchB & BranchC & Customer.type.Member & Customer.type.Normal & GenderFemale & GenderMale & Product.lineElectronic.accessories & Product.lineFashion.accessories & Product.lineFood.and.beverages & ⋯ & Quantity & Tax & PaymentCash & PaymentCredit.card & PaymentEwallet & cogs & gross.margin.percentage & gross.income & Rating & Total\\\\\n  & <dbl> & <dbl> & <dbl> & <dbl> & <dbl> & <dbl> & <dbl> & <dbl> & <dbl> & <dbl> & ⋯ & <dbl> & <dbl> & <dbl> & <dbl> & <dbl> & <dbl> & <dbl> & <dbl> & <dbl> & <dbl>\\\\\n\\hline\n\t1 & 1 & 0 & 0 & 1 & 0 & 1 & 0 & 0 & 0 & 0 & ⋯ &  7 & 26.1415 & 0 & 0 & 1 & 522.83 & 4.761905 & 26.1415 & 9.1 & 548.9715\\\\\n\t2 & 0 & 0 & 1 & 0 & 1 & 1 & 0 & 1 & 0 & 0 & ⋯ &  5 &  3.8200 & 1 & 0 & 0 &  76.40 & 4.761905 &  3.8200 & 9.6 &  80.2200\\\\\n\t3 & 1 & 0 & 0 & 0 & 1 & 0 & 1 & 0 & 0 & 0 & ⋯ &  7 & 16.2155 & 0 & 1 & 0 & 324.31 & 4.761905 & 16.2155 & 7.4 & 340.5255\\\\\n\t4 & 1 & 0 & 0 & 1 & 0 & 0 & 1 & 0 & 0 & 0 & ⋯ &  8 & 23.2880 & 0 & 0 & 1 & 465.76 & 4.761905 & 23.2880 & 8.4 & 489.0480\\\\\n\t5 & 1 & 0 & 0 & 0 & 1 & 0 & 1 & 0 & 0 & 0 & ⋯ &  7 & 30.2085 & 0 & 0 & 1 & 604.17 & 4.761905 & 30.2085 & 5.3 & 634.3785\\\\\n\t6 & 0 & 0 & 1 & 0 & 1 & 0 & 1 & 1 & 0 & 0 & ⋯ &  7 & 29.8865 & 0 & 0 & 1 & 597.73 & 4.761905 & 29.8865 & 4.1 & 627.6165\\\\\n\t7 & 1 & 0 & 0 & 1 & 0 & 1 & 0 & 1 & 0 & 0 & ⋯ &  6 & 20.6520 & 0 & 0 & 1 & 413.04 & 4.761905 & 20.6520 & 5.8 & 433.6920\\\\\n\t8 & 0 & 0 & 1 & 0 & 1 & 1 & 0 & 0 & 0 & 0 & ⋯ & 10 & 36.7800 & 0 & 0 & 1 & 735.60 & 4.761905 & 36.7800 & 8.0 & 772.3800\\\\\n\t9 & 1 & 0 & 0 & 1 & 0 & 1 & 0 & 0 & 0 & 0 & ⋯ &  2 &  3.6260 & 0 & 1 & 0 &  72.52 & 4.761905 &  3.6260 & 7.2 &  76.1460\\\\\n\t10 & 0 & 1 & 0 & 1 & 0 & 1 & 0 & 0 & 0 & 1 & ⋯ &  3 &  8.2260 & 0 & 1 & 0 & 164.52 & 4.761905 &  8.2260 & 5.9 & 172.7460\\\\\n\t11 & 0 & 1 & 0 & 1 & 0 & 1 & 0 & 0 & 1 & 0 & ⋯ &  4 &  2.8960 & 0 & 0 & 1 &  57.92 & 4.761905 &  2.8960 & 4.5 &  60.8160\\\\\n\t12 & 0 & 1 & 0 & 1 & 0 & 0 & 1 & 1 & 0 & 0 & ⋯ &  4 &  5.1020 & 1 & 0 & 0 & 102.04 & 4.761905 &  5.1020 & 6.8 & 107.1420\\\\\n\t13 & 1 & 0 & 0 & 0 & 1 & 1 & 0 & 1 & 0 & 0 & ⋯ &  5 & 11.7375 & 0 & 0 & 1 & 234.75 & 4.761905 & 11.7375 & 7.1 & 246.4875\\\\\n\t14 & 1 & 0 & 0 & 0 & 1 & 0 & 1 & 0 & 0 & 1 & ⋯ & 10 & 21.5950 & 0 & 0 & 1 & 431.90 & 4.761905 & 21.5950 & 8.2 & 453.4950\\\\\n\t15 & 1 & 0 & 0 & 0 & 1 & 1 & 0 & 0 & 0 & 0 & ⋯ & 10 & 35.6900 & 1 & 0 & 0 & 713.80 & 4.761905 & 35.6900 & 5.7 & 749.4900\\\\\n\t16 & 0 & 1 & 0 & 1 & 0 & 1 & 0 & 0 & 0 & 0 & ⋯ &  6 & 28.1160 & 1 & 0 & 0 & 562.32 & 4.761905 & 28.1160 & 4.5 & 590.4360\\\\\n\t17 & 1 & 0 & 0 & 1 & 0 & 1 & 0 & 0 & 0 & 0 & ⋯ &  7 & 24.1255 & 0 & 1 & 0 & 482.51 & 4.761905 & 24.1255 & 4.6 & 506.6355\\\\\n\t18 & 1 & 0 & 0 & 0 & 1 & 0 & 1 & 0 & 0 & 0 & ⋯ &  6 & 21.7830 & 0 & 1 & 0 & 435.66 & 4.761905 & 21.7830 & 6.9 & 457.4430\\\\\n\t19 & 1 & 0 & 0 & 0 & 1 & 0 & 1 & 0 & 0 & 1 & ⋯ &  3 &  8.2005 & 0 & 1 & 0 & 164.01 & 4.761905 &  8.2005 & 8.6 & 172.2105\\\\\n\t20 & 0 & 1 & 0 & 0 & 1 & 1 & 0 & 0 & 0 & 0 & ⋯ &  2 &  4.0300 & 0 & 0 & 1 &  80.60 & 4.761905 &  4.0300 & 4.4 &  84.6300\\\\\n\t21 & 0 & 0 & 1 & 1 & 0 & 0 & 1 & 1 & 0 & 0 & ⋯ &  5 & 21.5100 & 0 & 0 & 1 & 430.20 & 4.761905 & 21.5100 & 4.8 & 451.7100\\\\\n\t22 & 0 & 1 & 0 & 0 & 1 & 0 & 1 & 0 & 0 & 0 & ⋯ &  3 & 13.1970 & 0 & 0 & 1 & 263.94 & 4.761905 & 13.1970 & 5.1 & 277.1370\\\\\n\t23 & 0 & 1 & 0 & 0 & 1 & 0 & 1 & 0 & 0 & 0 & ⋯ &  2 &  3.3200 & 0 & 1 & 0 &  66.40 & 4.761905 &  3.3200 & 4.4 &  69.7200\\\\\n\t24 & 1 & 0 & 0 & 0 & 1 & 0 & 1 & 1 & 0 & 0 & ⋯ &  5 &  8.6400 & 0 & 0 & 1 & 172.80 & 4.761905 &  8.6400 & 9.9 & 181.4400\\\\\n\t25 & 1 & 0 & 0 & 1 & 0 & 0 & 1 & 0 & 0 & 0 & ⋯ &  3 & 13.2945 & 0 & 0 & 1 & 265.89 & 4.761905 & 13.2945 & 6.0 & 279.1845\\\\\n\t26 & 1 & 0 & 0 & 1 & 0 & 1 & 0 & 0 & 0 & 0 & ⋯ &  8 & 21.0360 & 0 & 1 & 0 & 420.72 & 4.761905 & 21.0360 & 8.5 & 441.7560\\\\\n\t27 & 0 & 1 & 0 & 0 & 1 & 0 & 1 & 0 & 1 & 0 & ⋯ &  1 &  1.6760 & 1 & 0 & 0 &  33.52 & 4.761905 &  1.6760 & 6.7 &  35.1960\\\\\n\t28 & 1 & 0 & 0 & 0 & 1 & 1 & 0 & 0 & 1 & 0 & ⋯ &  2 &  8.7670 & 0 & 1 & 0 & 175.34 & 4.761905 &  8.7670 & 7.7 & 184.1070\\\\\n\t29 & 0 & 1 & 0 & 0 & 1 & 1 & 0 & 0 & 0 & 1 & ⋯ &  5 & 22.0900 & 1 & 0 & 0 & 441.80 & 4.761905 & 22.0900 & 9.6 & 463.8900\\\\\n\t30 & 1 & 0 & 0 & 0 & 1 & 0 & 1 & 0 & 0 & 0 & ⋯ &  9 & 11.2005 & 1 & 0 & 0 & 224.01 & 4.761905 & 11.2005 & 7.4 & 235.2105\\\\\n\t⋮ & ⋮ & ⋮ & ⋮ & ⋮ & ⋮ & ⋮ & ⋮ & ⋮ & ⋮ & ⋮ & ⋱ & ⋮ & ⋮ & ⋮ & ⋮ & ⋮ & ⋮ & ⋮ & ⋮ & ⋮ & ⋮\\\\\n\t971 & 0 & 1 & 0 & 1 & 0 & 1 & 0 & 0 & 0 & 1 & ⋯ & 10 & 42.3150 & 0 & 1 & 0 & 846.30 & 4.761905 & 42.3150 & 9.0 &  888.6150\\\\\n\t972 & 0 & 1 & 0 & 1 & 0 & 0 & 1 & 0 & 0 & 0 & ⋯ &  7 & 12.9185 & 0 & 0 & 1 & 258.37 & 4.761905 & 12.9185 & 6.7 &  271.2885\\\\\n\t973 & 0 & 1 & 0 & 0 & 1 & 0 & 1 & 1 & 0 & 0 & ⋯ &  7 & 30.4780 & 1 & 0 & 0 & 609.56 & 4.761905 & 30.4780 & 5.5 &  640.0380\\\\\n\t974 & 1 & 0 & 0 & 0 & 1 & 0 & 1 & 0 & 0 & 0 & ⋯ &  3 & 12.0120 & 1 & 0 & 0 & 240.24 & 4.761905 & 12.0120 & 5.4 &  252.2520\\\\\n\t975 & 0 & 0 & 1 & 0 & 1 & 0 & 1 & 0 & 1 & 0 & ⋯ &  2 &  8.6130 & 1 & 0 & 0 & 172.26 & 4.761905 &  8.6130 & 8.2 &  180.8730\\\\\n\t976 & 0 & 1 & 0 & 1 & 0 & 0 & 1 & 0 & 1 & 0 & ⋯ &  2 &  4.9920 & 0 & 1 & 0 &  99.84 & 4.761905 &  4.9920 & 7.0 &  104.8320\\\\\n\t977 & 1 & 0 & 0 & 0 & 1 & 1 & 0 & 0 & 0 & 1 & ⋯ &  4 & 14.9320 & 1 & 0 & 0 & 298.64 & 4.761905 & 14.9320 & 8.5 &  313.5720\\\\\n\t978 & 0 & 1 & 0 & 1 & 0 & 0 & 1 & 0 & 0 & 1 & ⋯ &  6 &  7.9800 & 0 & 0 & 1 & 159.60 & 4.761905 &  7.9800 & 4.9 &  167.5800\\\\\n\t979 & 0 & 1 & 0 & 0 & 1 & 1 & 0 & 1 & 0 & 0 & ⋯ &  1 &  1.2725 & 0 & 1 & 0 &  25.45 & 4.761905 &  1.2725 & 5.1 &   26.7225\\\\\n\t980 & 0 & 1 & 0 & 0 & 1 & 1 & 0 & 0 & 0 & 1 & ⋯ &  1 &  3.3885 & 0 & 1 & 0 &  67.77 & 4.761905 &  3.3885 & 6.5 &   71.1585\\\\\n\t981 & 0 & 0 & 1 & 1 & 0 & 0 & 1 & 0 & 0 & 1 & ⋯ &  4 & 11.9180 & 1 & 0 & 0 & 238.36 & 4.761905 & 11.9180 & 9.8 &  250.2780\\\\\n\t982 & 1 & 0 & 0 & 0 & 1 & 0 & 1 & 0 & 0 & 0 & ⋯ &  4 & 11.6300 & 1 & 0 & 0 & 232.60 & 4.761905 & 11.6300 & 8.4 &  244.2300\\\\\n\t983 & 1 & 0 & 0 & 1 & 0 & 1 & 0 & 0 & 0 & 0 & ⋯ &  9 & 43.8660 & 0 & 0 & 1 & 877.32 & 4.761905 & 43.8660 & 7.4 &  921.1860\\\\\n\t984 & 0 & 0 & 1 & 0 & 1 & 0 & 1 & 0 & 0 & 0 & ⋯ &  7 & 34.9860 & 1 & 0 & 0 & 699.72 & 4.761905 & 34.9860 & 6.1 &  734.7060\\\\\n\t985 & 0 & 0 & 1 & 0 & 1 & 0 & 1 & 1 & 0 & 0 & ⋯ &  7 & 33.7295 & 1 & 0 & 0 & 674.59 & 4.761905 & 33.7295 & 6.0 &  708.3195\\\\\n\t986 & 0 & 1 & 0 & 0 & 1 & 1 & 0 & 0 & 1 & 0 & ⋯ &  5 & 15.9275 & 0 & 0 & 1 & 318.55 & 4.761905 & 15.9275 & 8.5 &  334.4775\\\\\n\t987 & 0 & 1 & 0 & 0 & 1 & 1 & 0 & 0 & 0 & 0 & ⋯ &  2 &  1.4760 & 0 & 0 & 1 &  29.52 & 4.761905 &  1.4760 & 4.3 &   30.9960\\\\\n\t988 & 0 & 1 & 0 & 1 & 0 & 0 & 1 & 0 & 0 & 0 & ⋯ &  8 & 24.8000 & 0 & 1 & 0 & 496.00 & 4.761905 & 24.8000 & 6.2 &  520.8000\\\\\n\t989 & 0 & 0 & 1 & 1 & 0 & 0 & 1 & 1 & 0 & 0 & ⋯ & 10 & 41.1700 & 0 & 0 & 1 & 823.40 & 4.761905 & 41.1700 & 4.3 &  864.5700\\\\\n\t990 & 0 & 1 & 0 & 1 & 0 & 0 & 1 & 0 & 0 & 0 & ⋯ &  8 & 30.1480 & 0 & 1 & 0 & 602.96 & 4.761905 & 30.1480 & 8.4 &  633.1080\\\\\n\t991 & 1 & 0 & 0 & 0 & 1 & 1 & 0 & 0 & 0 & 1 & ⋯ &  5 & 14.1400 & 0 & 1 & 0 & 282.80 & 4.761905 & 14.1400 & 4.5 &  296.9400\\\\\n\t992 & 0 & 1 & 0 & 0 & 1 & 1 & 0 & 0 & 0 & 0 & ⋯ & 10 & 38.3000 & 0 & 0 & 1 & 766.00 & 4.761905 & 38.3000 & 6.0 &  804.3000\\\\\n\t993 & 1 & 0 & 0 & 0 & 1 & 0 & 1 & 1 & 0 & 0 & ⋯ &  2 &  5.8030 & 0 & 0 & 1 & 116.06 & 4.761905 &  5.8030 & 8.8 &  121.8630\\\\\n\t994 & 0 & 1 & 0 & 0 & 1 & 0 & 1 & 0 & 1 & 0 & ⋯ & 10 &  8.7450 & 0 & 0 & 1 & 174.90 & 4.761905 &  8.7450 & 6.6 &  183.6450\\\\\n\t995 & 0 & 0 & 1 & 1 & 0 & 1 & 0 & 1 & 0 & 0 & ⋯ &  1 &  3.0475 & 0 & 0 & 1 &  60.95 & 4.761905 &  3.0475 & 5.9 &   63.9975\\\\\n\t996 & 0 & 0 & 1 & 0 & 1 & 0 & 1 & 0 & 0 & 0 & ⋯ &  1 &  2.0175 & 0 & 0 & 1 &  40.35 & 4.761905 &  2.0175 & 6.2 &   42.3675\\\\\n\t997 & 0 & 1 & 0 & 0 & 1 & 1 & 0 & 0 & 0 & 0 & ⋯ & 10 & 48.6900 & 0 & 0 & 1 & 973.80 & 4.761905 & 48.6900 & 4.4 & 1022.4900\\\\\n\t998 & 1 & 0 & 0 & 1 & 0 & 0 & 1 & 0 & 0 & 1 & ⋯ &  1 &  1.5920 & 1 & 0 & 0 &  31.84 & 4.761905 &  1.5920 & 7.7 &   33.4320\\\\\n\t999 & 1 & 0 & 0 & 0 & 1 & 0 & 1 & 0 & 0 & 0 & ⋯ &  1 &  3.2910 & 1 & 0 & 0 &  65.82 & 4.761905 &  3.2910 & 4.1 &   69.1110\\\\\n\t1000 & 1 & 0 & 0 & 1 & 0 & 1 & 0 & 0 & 1 & 0 & ⋯ &  7 & 30.9190 & 1 & 0 & 0 & 618.38 & 4.761905 & 30.9190 & 6.6 &  649.2990\\\\\n\\end{tabular}\n",
            "text/markdown": "\nA data.frame: 1000 × 24\n\n| <!--/--> | BranchA &lt;dbl&gt; | BranchB &lt;dbl&gt; | BranchC &lt;dbl&gt; | Customer.type.Member &lt;dbl&gt; | Customer.type.Normal &lt;dbl&gt; | GenderFemale &lt;dbl&gt; | GenderMale &lt;dbl&gt; | Product.lineElectronic.accessories &lt;dbl&gt; | Product.lineFashion.accessories &lt;dbl&gt; | Product.lineFood.and.beverages &lt;dbl&gt; | ⋯ ⋯ | Quantity &lt;dbl&gt; | Tax &lt;dbl&gt; | PaymentCash &lt;dbl&gt; | PaymentCredit.card &lt;dbl&gt; | PaymentEwallet &lt;dbl&gt; | cogs &lt;dbl&gt; | gross.margin.percentage &lt;dbl&gt; | gross.income &lt;dbl&gt; | Rating &lt;dbl&gt; | Total &lt;dbl&gt; |\n|---|---|---|---|---|---|---|---|---|---|---|---|---|---|---|---|---|---|---|---|---|---|\n| 1 | 1 | 0 | 0 | 1 | 0 | 1 | 0 | 0 | 0 | 0 | ⋯ |  7 | 26.1415 | 0 | 0 | 1 | 522.83 | 4.761905 | 26.1415 | 9.1 | 548.9715 |\n| 2 | 0 | 0 | 1 | 0 | 1 | 1 | 0 | 1 | 0 | 0 | ⋯ |  5 |  3.8200 | 1 | 0 | 0 |  76.40 | 4.761905 |  3.8200 | 9.6 |  80.2200 |\n| 3 | 1 | 0 | 0 | 0 | 1 | 0 | 1 | 0 | 0 | 0 | ⋯ |  7 | 16.2155 | 0 | 1 | 0 | 324.31 | 4.761905 | 16.2155 | 7.4 | 340.5255 |\n| 4 | 1 | 0 | 0 | 1 | 0 | 0 | 1 | 0 | 0 | 0 | ⋯ |  8 | 23.2880 | 0 | 0 | 1 | 465.76 | 4.761905 | 23.2880 | 8.4 | 489.0480 |\n| 5 | 1 | 0 | 0 | 0 | 1 | 0 | 1 | 0 | 0 | 0 | ⋯ |  7 | 30.2085 | 0 | 0 | 1 | 604.17 | 4.761905 | 30.2085 | 5.3 | 634.3785 |\n| 6 | 0 | 0 | 1 | 0 | 1 | 0 | 1 | 1 | 0 | 0 | ⋯ |  7 | 29.8865 | 0 | 0 | 1 | 597.73 | 4.761905 | 29.8865 | 4.1 | 627.6165 |\n| 7 | 1 | 0 | 0 | 1 | 0 | 1 | 0 | 1 | 0 | 0 | ⋯ |  6 | 20.6520 | 0 | 0 | 1 | 413.04 | 4.761905 | 20.6520 | 5.8 | 433.6920 |\n| 8 | 0 | 0 | 1 | 0 | 1 | 1 | 0 | 0 | 0 | 0 | ⋯ | 10 | 36.7800 | 0 | 0 | 1 | 735.60 | 4.761905 | 36.7800 | 8.0 | 772.3800 |\n| 9 | 1 | 0 | 0 | 1 | 0 | 1 | 0 | 0 | 0 | 0 | ⋯ |  2 |  3.6260 | 0 | 1 | 0 |  72.52 | 4.761905 |  3.6260 | 7.2 |  76.1460 |\n| 10 | 0 | 1 | 0 | 1 | 0 | 1 | 0 | 0 | 0 | 1 | ⋯ |  3 |  8.2260 | 0 | 1 | 0 | 164.52 | 4.761905 |  8.2260 | 5.9 | 172.7460 |\n| 11 | 0 | 1 | 0 | 1 | 0 | 1 | 0 | 0 | 1 | 0 | ⋯ |  4 |  2.8960 | 0 | 0 | 1 |  57.92 | 4.761905 |  2.8960 | 4.5 |  60.8160 |\n| 12 | 0 | 1 | 0 | 1 | 0 | 0 | 1 | 1 | 0 | 0 | ⋯ |  4 |  5.1020 | 1 | 0 | 0 | 102.04 | 4.761905 |  5.1020 | 6.8 | 107.1420 |\n| 13 | 1 | 0 | 0 | 0 | 1 | 1 | 0 | 1 | 0 | 0 | ⋯ |  5 | 11.7375 | 0 | 0 | 1 | 234.75 | 4.761905 | 11.7375 | 7.1 | 246.4875 |\n| 14 | 1 | 0 | 0 | 0 | 1 | 0 | 1 | 0 | 0 | 1 | ⋯ | 10 | 21.5950 | 0 | 0 | 1 | 431.90 | 4.761905 | 21.5950 | 8.2 | 453.4950 |\n| 15 | 1 | 0 | 0 | 0 | 1 | 1 | 0 | 0 | 0 | 0 | ⋯ | 10 | 35.6900 | 1 | 0 | 0 | 713.80 | 4.761905 | 35.6900 | 5.7 | 749.4900 |\n| 16 | 0 | 1 | 0 | 1 | 0 | 1 | 0 | 0 | 0 | 0 | ⋯ |  6 | 28.1160 | 1 | 0 | 0 | 562.32 | 4.761905 | 28.1160 | 4.5 | 590.4360 |\n| 17 | 1 | 0 | 0 | 1 | 0 | 1 | 0 | 0 | 0 | 0 | ⋯ |  7 | 24.1255 | 0 | 1 | 0 | 482.51 | 4.761905 | 24.1255 | 4.6 | 506.6355 |\n| 18 | 1 | 0 | 0 | 0 | 1 | 0 | 1 | 0 | 0 | 0 | ⋯ |  6 | 21.7830 | 0 | 1 | 0 | 435.66 | 4.761905 | 21.7830 | 6.9 | 457.4430 |\n| 19 | 1 | 0 | 0 | 0 | 1 | 0 | 1 | 0 | 0 | 1 | ⋯ |  3 |  8.2005 | 0 | 1 | 0 | 164.01 | 4.761905 |  8.2005 | 8.6 | 172.2105 |\n| 20 | 0 | 1 | 0 | 0 | 1 | 1 | 0 | 0 | 0 | 0 | ⋯ |  2 |  4.0300 | 0 | 0 | 1 |  80.60 | 4.761905 |  4.0300 | 4.4 |  84.6300 |\n| 21 | 0 | 0 | 1 | 1 | 0 | 0 | 1 | 1 | 0 | 0 | ⋯ |  5 | 21.5100 | 0 | 0 | 1 | 430.20 | 4.761905 | 21.5100 | 4.8 | 451.7100 |\n| 22 | 0 | 1 | 0 | 0 | 1 | 0 | 1 | 0 | 0 | 0 | ⋯ |  3 | 13.1970 | 0 | 0 | 1 | 263.94 | 4.761905 | 13.1970 | 5.1 | 277.1370 |\n| 23 | 0 | 1 | 0 | 0 | 1 | 0 | 1 | 0 | 0 | 0 | ⋯ |  2 |  3.3200 | 0 | 1 | 0 |  66.40 | 4.761905 |  3.3200 | 4.4 |  69.7200 |\n| 24 | 1 | 0 | 0 | 0 | 1 | 0 | 1 | 1 | 0 | 0 | ⋯ |  5 |  8.6400 | 0 | 0 | 1 | 172.80 | 4.761905 |  8.6400 | 9.9 | 181.4400 |\n| 25 | 1 | 0 | 0 | 1 | 0 | 0 | 1 | 0 | 0 | 0 | ⋯ |  3 | 13.2945 | 0 | 0 | 1 | 265.89 | 4.761905 | 13.2945 | 6.0 | 279.1845 |\n| 26 | 1 | 0 | 0 | 1 | 0 | 1 | 0 | 0 | 0 | 0 | ⋯ |  8 | 21.0360 | 0 | 1 | 0 | 420.72 | 4.761905 | 21.0360 | 8.5 | 441.7560 |\n| 27 | 0 | 1 | 0 | 0 | 1 | 0 | 1 | 0 | 1 | 0 | ⋯ |  1 |  1.6760 | 1 | 0 | 0 |  33.52 | 4.761905 |  1.6760 | 6.7 |  35.1960 |\n| 28 | 1 | 0 | 0 | 0 | 1 | 1 | 0 | 0 | 1 | 0 | ⋯ |  2 |  8.7670 | 0 | 1 | 0 | 175.34 | 4.761905 |  8.7670 | 7.7 | 184.1070 |\n| 29 | 0 | 1 | 0 | 0 | 1 | 1 | 0 | 0 | 0 | 1 | ⋯ |  5 | 22.0900 | 1 | 0 | 0 | 441.80 | 4.761905 | 22.0900 | 9.6 | 463.8900 |\n| 30 | 1 | 0 | 0 | 0 | 1 | 0 | 1 | 0 | 0 | 0 | ⋯ |  9 | 11.2005 | 1 | 0 | 0 | 224.01 | 4.761905 | 11.2005 | 7.4 | 235.2105 |\n| ⋮ | ⋮ | ⋮ | ⋮ | ⋮ | ⋮ | ⋮ | ⋮ | ⋮ | ⋮ | ⋮ | ⋱ | ⋮ | ⋮ | ⋮ | ⋮ | ⋮ | ⋮ | ⋮ | ⋮ | ⋮ | ⋮ |\n| 971 | 0 | 1 | 0 | 1 | 0 | 1 | 0 | 0 | 0 | 1 | ⋯ | 10 | 42.3150 | 0 | 1 | 0 | 846.30 | 4.761905 | 42.3150 | 9.0 |  888.6150 |\n| 972 | 0 | 1 | 0 | 1 | 0 | 0 | 1 | 0 | 0 | 0 | ⋯ |  7 | 12.9185 | 0 | 0 | 1 | 258.37 | 4.761905 | 12.9185 | 6.7 |  271.2885 |\n| 973 | 0 | 1 | 0 | 0 | 1 | 0 | 1 | 1 | 0 | 0 | ⋯ |  7 | 30.4780 | 1 | 0 | 0 | 609.56 | 4.761905 | 30.4780 | 5.5 |  640.0380 |\n| 974 | 1 | 0 | 0 | 0 | 1 | 0 | 1 | 0 | 0 | 0 | ⋯ |  3 | 12.0120 | 1 | 0 | 0 | 240.24 | 4.761905 | 12.0120 | 5.4 |  252.2520 |\n| 975 | 0 | 0 | 1 | 0 | 1 | 0 | 1 | 0 | 1 | 0 | ⋯ |  2 |  8.6130 | 1 | 0 | 0 | 172.26 | 4.761905 |  8.6130 | 8.2 |  180.8730 |\n| 976 | 0 | 1 | 0 | 1 | 0 | 0 | 1 | 0 | 1 | 0 | ⋯ |  2 |  4.9920 | 0 | 1 | 0 |  99.84 | 4.761905 |  4.9920 | 7.0 |  104.8320 |\n| 977 | 1 | 0 | 0 | 0 | 1 | 1 | 0 | 0 | 0 | 1 | ⋯ |  4 | 14.9320 | 1 | 0 | 0 | 298.64 | 4.761905 | 14.9320 | 8.5 |  313.5720 |\n| 978 | 0 | 1 | 0 | 1 | 0 | 0 | 1 | 0 | 0 | 1 | ⋯ |  6 |  7.9800 | 0 | 0 | 1 | 159.60 | 4.761905 |  7.9800 | 4.9 |  167.5800 |\n| 979 | 0 | 1 | 0 | 0 | 1 | 1 | 0 | 1 | 0 | 0 | ⋯ |  1 |  1.2725 | 0 | 1 | 0 |  25.45 | 4.761905 |  1.2725 | 5.1 |   26.7225 |\n| 980 | 0 | 1 | 0 | 0 | 1 | 1 | 0 | 0 | 0 | 1 | ⋯ |  1 |  3.3885 | 0 | 1 | 0 |  67.77 | 4.761905 |  3.3885 | 6.5 |   71.1585 |\n| 981 | 0 | 0 | 1 | 1 | 0 | 0 | 1 | 0 | 0 | 1 | ⋯ |  4 | 11.9180 | 1 | 0 | 0 | 238.36 | 4.761905 | 11.9180 | 9.8 |  250.2780 |\n| 982 | 1 | 0 | 0 | 0 | 1 | 0 | 1 | 0 | 0 | 0 | ⋯ |  4 | 11.6300 | 1 | 0 | 0 | 232.60 | 4.761905 | 11.6300 | 8.4 |  244.2300 |\n| 983 | 1 | 0 | 0 | 1 | 0 | 1 | 0 | 0 | 0 | 0 | ⋯ |  9 | 43.8660 | 0 | 0 | 1 | 877.32 | 4.761905 | 43.8660 | 7.4 |  921.1860 |\n| 984 | 0 | 0 | 1 | 0 | 1 | 0 | 1 | 0 | 0 | 0 | ⋯ |  7 | 34.9860 | 1 | 0 | 0 | 699.72 | 4.761905 | 34.9860 | 6.1 |  734.7060 |\n| 985 | 0 | 0 | 1 | 0 | 1 | 0 | 1 | 1 | 0 | 0 | ⋯ |  7 | 33.7295 | 1 | 0 | 0 | 674.59 | 4.761905 | 33.7295 | 6.0 |  708.3195 |\n| 986 | 0 | 1 | 0 | 0 | 1 | 1 | 0 | 0 | 1 | 0 | ⋯ |  5 | 15.9275 | 0 | 0 | 1 | 318.55 | 4.761905 | 15.9275 | 8.5 |  334.4775 |\n| 987 | 0 | 1 | 0 | 0 | 1 | 1 | 0 | 0 | 0 | 0 | ⋯ |  2 |  1.4760 | 0 | 0 | 1 |  29.52 | 4.761905 |  1.4760 | 4.3 |   30.9960 |\n| 988 | 0 | 1 | 0 | 1 | 0 | 0 | 1 | 0 | 0 | 0 | ⋯ |  8 | 24.8000 | 0 | 1 | 0 | 496.00 | 4.761905 | 24.8000 | 6.2 |  520.8000 |\n| 989 | 0 | 0 | 1 | 1 | 0 | 0 | 1 | 1 | 0 | 0 | ⋯ | 10 | 41.1700 | 0 | 0 | 1 | 823.40 | 4.761905 | 41.1700 | 4.3 |  864.5700 |\n| 990 | 0 | 1 | 0 | 1 | 0 | 0 | 1 | 0 | 0 | 0 | ⋯ |  8 | 30.1480 | 0 | 1 | 0 | 602.96 | 4.761905 | 30.1480 | 8.4 |  633.1080 |\n| 991 | 1 | 0 | 0 | 0 | 1 | 1 | 0 | 0 | 0 | 1 | ⋯ |  5 | 14.1400 | 0 | 1 | 0 | 282.80 | 4.761905 | 14.1400 | 4.5 |  296.9400 |\n| 992 | 0 | 1 | 0 | 0 | 1 | 1 | 0 | 0 | 0 | 0 | ⋯ | 10 | 38.3000 | 0 | 0 | 1 | 766.00 | 4.761905 | 38.3000 | 6.0 |  804.3000 |\n| 993 | 1 | 0 | 0 | 0 | 1 | 0 | 1 | 1 | 0 | 0 | ⋯ |  2 |  5.8030 | 0 | 0 | 1 | 116.06 | 4.761905 |  5.8030 | 8.8 |  121.8630 |\n| 994 | 0 | 1 | 0 | 0 | 1 | 0 | 1 | 0 | 1 | 0 | ⋯ | 10 |  8.7450 | 0 | 0 | 1 | 174.90 | 4.761905 |  8.7450 | 6.6 |  183.6450 |\n| 995 | 0 | 0 | 1 | 1 | 0 | 1 | 0 | 1 | 0 | 0 | ⋯ |  1 |  3.0475 | 0 | 0 | 1 |  60.95 | 4.761905 |  3.0475 | 5.9 |   63.9975 |\n| 996 | 0 | 0 | 1 | 0 | 1 | 0 | 1 | 0 | 0 | 0 | ⋯ |  1 |  2.0175 | 0 | 0 | 1 |  40.35 | 4.761905 |  2.0175 | 6.2 |   42.3675 |\n| 997 | 0 | 1 | 0 | 0 | 1 | 1 | 0 | 0 | 0 | 0 | ⋯ | 10 | 48.6900 | 0 | 0 | 1 | 973.80 | 4.761905 | 48.6900 | 4.4 | 1022.4900 |\n| 998 | 1 | 0 | 0 | 1 | 0 | 0 | 1 | 0 | 0 | 1 | ⋯ |  1 |  1.5920 | 1 | 0 | 0 |  31.84 | 4.761905 |  1.5920 | 7.7 |   33.4320 |\n| 999 | 1 | 0 | 0 | 0 | 1 | 0 | 1 | 0 | 0 | 0 | ⋯ |  1 |  3.2910 | 1 | 0 | 0 |  65.82 | 4.761905 |  3.2910 | 4.1 |   69.1110 |\n| 1000 | 1 | 0 | 0 | 1 | 0 | 1 | 0 | 0 | 1 | 0 | ⋯ |  7 | 30.9190 | 1 | 0 | 0 | 618.38 | 4.761905 | 30.9190 | 6.6 |  649.2990 |\n\n",
            "text/html": [
              "<table class=\"dataframe\">\n",
              "<caption>A data.frame: 1000 × 24</caption>\n",
              "<thead>\n",
              "\t<tr><th></th><th scope=col>BranchA</th><th scope=col>BranchB</th><th scope=col>BranchC</th><th scope=col>Customer.type.Member</th><th scope=col>Customer.type.Normal</th><th scope=col>GenderFemale</th><th scope=col>GenderMale</th><th scope=col>Product.lineElectronic.accessories</th><th scope=col>Product.lineFashion.accessories</th><th scope=col>Product.lineFood.and.beverages</th><th scope=col>⋯</th><th scope=col>Quantity</th><th scope=col>Tax</th><th scope=col>PaymentCash</th><th scope=col>PaymentCredit.card</th><th scope=col>PaymentEwallet</th><th scope=col>cogs</th><th scope=col>gross.margin.percentage</th><th scope=col>gross.income</th><th scope=col>Rating</th><th scope=col>Total</th></tr>\n",
              "\t<tr><th></th><th scope=col>&lt;dbl&gt;</th><th scope=col>&lt;dbl&gt;</th><th scope=col>&lt;dbl&gt;</th><th scope=col>&lt;dbl&gt;</th><th scope=col>&lt;dbl&gt;</th><th scope=col>&lt;dbl&gt;</th><th scope=col>&lt;dbl&gt;</th><th scope=col>&lt;dbl&gt;</th><th scope=col>&lt;dbl&gt;</th><th scope=col>&lt;dbl&gt;</th><th scope=col>⋯</th><th scope=col>&lt;dbl&gt;</th><th scope=col>&lt;dbl&gt;</th><th scope=col>&lt;dbl&gt;</th><th scope=col>&lt;dbl&gt;</th><th scope=col>&lt;dbl&gt;</th><th scope=col>&lt;dbl&gt;</th><th scope=col>&lt;dbl&gt;</th><th scope=col>&lt;dbl&gt;</th><th scope=col>&lt;dbl&gt;</th><th scope=col>&lt;dbl&gt;</th></tr>\n",
              "</thead>\n",
              "<tbody>\n",
              "\t<tr><th scope=row>1</th><td>1</td><td>0</td><td>0</td><td>1</td><td>0</td><td>1</td><td>0</td><td>0</td><td>0</td><td>0</td><td>⋯</td><td> 7</td><td>26.1415</td><td>0</td><td>0</td><td>1</td><td>522.83</td><td>4.761905</td><td>26.1415</td><td>9.1</td><td>548.9715</td></tr>\n",
              "\t<tr><th scope=row>2</th><td>0</td><td>0</td><td>1</td><td>0</td><td>1</td><td>1</td><td>0</td><td>1</td><td>0</td><td>0</td><td>⋯</td><td> 5</td><td> 3.8200</td><td>1</td><td>0</td><td>0</td><td> 76.40</td><td>4.761905</td><td> 3.8200</td><td>9.6</td><td> 80.2200</td></tr>\n",
              "\t<tr><th scope=row>3</th><td>1</td><td>0</td><td>0</td><td>0</td><td>1</td><td>0</td><td>1</td><td>0</td><td>0</td><td>0</td><td>⋯</td><td> 7</td><td>16.2155</td><td>0</td><td>1</td><td>0</td><td>324.31</td><td>4.761905</td><td>16.2155</td><td>7.4</td><td>340.5255</td></tr>\n",
              "\t<tr><th scope=row>4</th><td>1</td><td>0</td><td>0</td><td>1</td><td>0</td><td>0</td><td>1</td><td>0</td><td>0</td><td>0</td><td>⋯</td><td> 8</td><td>23.2880</td><td>0</td><td>0</td><td>1</td><td>465.76</td><td>4.761905</td><td>23.2880</td><td>8.4</td><td>489.0480</td></tr>\n",
              "\t<tr><th scope=row>5</th><td>1</td><td>0</td><td>0</td><td>0</td><td>1</td><td>0</td><td>1</td><td>0</td><td>0</td><td>0</td><td>⋯</td><td> 7</td><td>30.2085</td><td>0</td><td>0</td><td>1</td><td>604.17</td><td>4.761905</td><td>30.2085</td><td>5.3</td><td>634.3785</td></tr>\n",
              "\t<tr><th scope=row>6</th><td>0</td><td>0</td><td>1</td><td>0</td><td>1</td><td>0</td><td>1</td><td>1</td><td>0</td><td>0</td><td>⋯</td><td> 7</td><td>29.8865</td><td>0</td><td>0</td><td>1</td><td>597.73</td><td>4.761905</td><td>29.8865</td><td>4.1</td><td>627.6165</td></tr>\n",
              "\t<tr><th scope=row>7</th><td>1</td><td>0</td><td>0</td><td>1</td><td>0</td><td>1</td><td>0</td><td>1</td><td>0</td><td>0</td><td>⋯</td><td> 6</td><td>20.6520</td><td>0</td><td>0</td><td>1</td><td>413.04</td><td>4.761905</td><td>20.6520</td><td>5.8</td><td>433.6920</td></tr>\n",
              "\t<tr><th scope=row>8</th><td>0</td><td>0</td><td>1</td><td>0</td><td>1</td><td>1</td><td>0</td><td>0</td><td>0</td><td>0</td><td>⋯</td><td>10</td><td>36.7800</td><td>0</td><td>0</td><td>1</td><td>735.60</td><td>4.761905</td><td>36.7800</td><td>8.0</td><td>772.3800</td></tr>\n",
              "\t<tr><th scope=row>9</th><td>1</td><td>0</td><td>0</td><td>1</td><td>0</td><td>1</td><td>0</td><td>0</td><td>0</td><td>0</td><td>⋯</td><td> 2</td><td> 3.6260</td><td>0</td><td>1</td><td>0</td><td> 72.52</td><td>4.761905</td><td> 3.6260</td><td>7.2</td><td> 76.1460</td></tr>\n",
              "\t<tr><th scope=row>10</th><td>0</td><td>1</td><td>0</td><td>1</td><td>0</td><td>1</td><td>0</td><td>0</td><td>0</td><td>1</td><td>⋯</td><td> 3</td><td> 8.2260</td><td>0</td><td>1</td><td>0</td><td>164.52</td><td>4.761905</td><td> 8.2260</td><td>5.9</td><td>172.7460</td></tr>\n",
              "\t<tr><th scope=row>11</th><td>0</td><td>1</td><td>0</td><td>1</td><td>0</td><td>1</td><td>0</td><td>0</td><td>1</td><td>0</td><td>⋯</td><td> 4</td><td> 2.8960</td><td>0</td><td>0</td><td>1</td><td> 57.92</td><td>4.761905</td><td> 2.8960</td><td>4.5</td><td> 60.8160</td></tr>\n",
              "\t<tr><th scope=row>12</th><td>0</td><td>1</td><td>0</td><td>1</td><td>0</td><td>0</td><td>1</td><td>1</td><td>0</td><td>0</td><td>⋯</td><td> 4</td><td> 5.1020</td><td>1</td><td>0</td><td>0</td><td>102.04</td><td>4.761905</td><td> 5.1020</td><td>6.8</td><td>107.1420</td></tr>\n",
              "\t<tr><th scope=row>13</th><td>1</td><td>0</td><td>0</td><td>0</td><td>1</td><td>1</td><td>0</td><td>1</td><td>0</td><td>0</td><td>⋯</td><td> 5</td><td>11.7375</td><td>0</td><td>0</td><td>1</td><td>234.75</td><td>4.761905</td><td>11.7375</td><td>7.1</td><td>246.4875</td></tr>\n",
              "\t<tr><th scope=row>14</th><td>1</td><td>0</td><td>0</td><td>0</td><td>1</td><td>0</td><td>1</td><td>0</td><td>0</td><td>1</td><td>⋯</td><td>10</td><td>21.5950</td><td>0</td><td>0</td><td>1</td><td>431.90</td><td>4.761905</td><td>21.5950</td><td>8.2</td><td>453.4950</td></tr>\n",
              "\t<tr><th scope=row>15</th><td>1</td><td>0</td><td>0</td><td>0</td><td>1</td><td>1</td><td>0</td><td>0</td><td>0</td><td>0</td><td>⋯</td><td>10</td><td>35.6900</td><td>1</td><td>0</td><td>0</td><td>713.80</td><td>4.761905</td><td>35.6900</td><td>5.7</td><td>749.4900</td></tr>\n",
              "\t<tr><th scope=row>16</th><td>0</td><td>1</td><td>0</td><td>1</td><td>0</td><td>1</td><td>0</td><td>0</td><td>0</td><td>0</td><td>⋯</td><td> 6</td><td>28.1160</td><td>1</td><td>0</td><td>0</td><td>562.32</td><td>4.761905</td><td>28.1160</td><td>4.5</td><td>590.4360</td></tr>\n",
              "\t<tr><th scope=row>17</th><td>1</td><td>0</td><td>0</td><td>1</td><td>0</td><td>1</td><td>0</td><td>0</td><td>0</td><td>0</td><td>⋯</td><td> 7</td><td>24.1255</td><td>0</td><td>1</td><td>0</td><td>482.51</td><td>4.761905</td><td>24.1255</td><td>4.6</td><td>506.6355</td></tr>\n",
              "\t<tr><th scope=row>18</th><td>1</td><td>0</td><td>0</td><td>0</td><td>1</td><td>0</td><td>1</td><td>0</td><td>0</td><td>0</td><td>⋯</td><td> 6</td><td>21.7830</td><td>0</td><td>1</td><td>0</td><td>435.66</td><td>4.761905</td><td>21.7830</td><td>6.9</td><td>457.4430</td></tr>\n",
              "\t<tr><th scope=row>19</th><td>1</td><td>0</td><td>0</td><td>0</td><td>1</td><td>0</td><td>1</td><td>0</td><td>0</td><td>1</td><td>⋯</td><td> 3</td><td> 8.2005</td><td>0</td><td>1</td><td>0</td><td>164.01</td><td>4.761905</td><td> 8.2005</td><td>8.6</td><td>172.2105</td></tr>\n",
              "\t<tr><th scope=row>20</th><td>0</td><td>1</td><td>0</td><td>0</td><td>1</td><td>1</td><td>0</td><td>0</td><td>0</td><td>0</td><td>⋯</td><td> 2</td><td> 4.0300</td><td>0</td><td>0</td><td>1</td><td> 80.60</td><td>4.761905</td><td> 4.0300</td><td>4.4</td><td> 84.6300</td></tr>\n",
              "\t<tr><th scope=row>21</th><td>0</td><td>0</td><td>1</td><td>1</td><td>0</td><td>0</td><td>1</td><td>1</td><td>0</td><td>0</td><td>⋯</td><td> 5</td><td>21.5100</td><td>0</td><td>0</td><td>1</td><td>430.20</td><td>4.761905</td><td>21.5100</td><td>4.8</td><td>451.7100</td></tr>\n",
              "\t<tr><th scope=row>22</th><td>0</td><td>1</td><td>0</td><td>0</td><td>1</td><td>0</td><td>1</td><td>0</td><td>0</td><td>0</td><td>⋯</td><td> 3</td><td>13.1970</td><td>0</td><td>0</td><td>1</td><td>263.94</td><td>4.761905</td><td>13.1970</td><td>5.1</td><td>277.1370</td></tr>\n",
              "\t<tr><th scope=row>23</th><td>0</td><td>1</td><td>0</td><td>0</td><td>1</td><td>0</td><td>1</td><td>0</td><td>0</td><td>0</td><td>⋯</td><td> 2</td><td> 3.3200</td><td>0</td><td>1</td><td>0</td><td> 66.40</td><td>4.761905</td><td> 3.3200</td><td>4.4</td><td> 69.7200</td></tr>\n",
              "\t<tr><th scope=row>24</th><td>1</td><td>0</td><td>0</td><td>0</td><td>1</td><td>0</td><td>1</td><td>1</td><td>0</td><td>0</td><td>⋯</td><td> 5</td><td> 8.6400</td><td>0</td><td>0</td><td>1</td><td>172.80</td><td>4.761905</td><td> 8.6400</td><td>9.9</td><td>181.4400</td></tr>\n",
              "\t<tr><th scope=row>25</th><td>1</td><td>0</td><td>0</td><td>1</td><td>0</td><td>0</td><td>1</td><td>0</td><td>0</td><td>0</td><td>⋯</td><td> 3</td><td>13.2945</td><td>0</td><td>0</td><td>1</td><td>265.89</td><td>4.761905</td><td>13.2945</td><td>6.0</td><td>279.1845</td></tr>\n",
              "\t<tr><th scope=row>26</th><td>1</td><td>0</td><td>0</td><td>1</td><td>0</td><td>1</td><td>0</td><td>0</td><td>0</td><td>0</td><td>⋯</td><td> 8</td><td>21.0360</td><td>0</td><td>1</td><td>0</td><td>420.72</td><td>4.761905</td><td>21.0360</td><td>8.5</td><td>441.7560</td></tr>\n",
              "\t<tr><th scope=row>27</th><td>0</td><td>1</td><td>0</td><td>0</td><td>1</td><td>0</td><td>1</td><td>0</td><td>1</td><td>0</td><td>⋯</td><td> 1</td><td> 1.6760</td><td>1</td><td>0</td><td>0</td><td> 33.52</td><td>4.761905</td><td> 1.6760</td><td>6.7</td><td> 35.1960</td></tr>\n",
              "\t<tr><th scope=row>28</th><td>1</td><td>0</td><td>0</td><td>0</td><td>1</td><td>1</td><td>0</td><td>0</td><td>1</td><td>0</td><td>⋯</td><td> 2</td><td> 8.7670</td><td>0</td><td>1</td><td>0</td><td>175.34</td><td>4.761905</td><td> 8.7670</td><td>7.7</td><td>184.1070</td></tr>\n",
              "\t<tr><th scope=row>29</th><td>0</td><td>1</td><td>0</td><td>0</td><td>1</td><td>1</td><td>0</td><td>0</td><td>0</td><td>1</td><td>⋯</td><td> 5</td><td>22.0900</td><td>1</td><td>0</td><td>0</td><td>441.80</td><td>4.761905</td><td>22.0900</td><td>9.6</td><td>463.8900</td></tr>\n",
              "\t<tr><th scope=row>30</th><td>1</td><td>0</td><td>0</td><td>0</td><td>1</td><td>0</td><td>1</td><td>0</td><td>0</td><td>0</td><td>⋯</td><td> 9</td><td>11.2005</td><td>1</td><td>0</td><td>0</td><td>224.01</td><td>4.761905</td><td>11.2005</td><td>7.4</td><td>235.2105</td></tr>\n",
              "\t<tr><th scope=row>⋮</th><td>⋮</td><td>⋮</td><td>⋮</td><td>⋮</td><td>⋮</td><td>⋮</td><td>⋮</td><td>⋮</td><td>⋮</td><td>⋮</td><td>⋱</td><td>⋮</td><td>⋮</td><td>⋮</td><td>⋮</td><td>⋮</td><td>⋮</td><td>⋮</td><td>⋮</td><td>⋮</td><td>⋮</td></tr>\n",
              "\t<tr><th scope=row>971</th><td>0</td><td>1</td><td>0</td><td>1</td><td>0</td><td>1</td><td>0</td><td>0</td><td>0</td><td>1</td><td>⋯</td><td>10</td><td>42.3150</td><td>0</td><td>1</td><td>0</td><td>846.30</td><td>4.761905</td><td>42.3150</td><td>9.0</td><td> 888.6150</td></tr>\n",
              "\t<tr><th scope=row>972</th><td>0</td><td>1</td><td>0</td><td>1</td><td>0</td><td>0</td><td>1</td><td>0</td><td>0</td><td>0</td><td>⋯</td><td> 7</td><td>12.9185</td><td>0</td><td>0</td><td>1</td><td>258.37</td><td>4.761905</td><td>12.9185</td><td>6.7</td><td> 271.2885</td></tr>\n",
              "\t<tr><th scope=row>973</th><td>0</td><td>1</td><td>0</td><td>0</td><td>1</td><td>0</td><td>1</td><td>1</td><td>0</td><td>0</td><td>⋯</td><td> 7</td><td>30.4780</td><td>1</td><td>0</td><td>0</td><td>609.56</td><td>4.761905</td><td>30.4780</td><td>5.5</td><td> 640.0380</td></tr>\n",
              "\t<tr><th scope=row>974</th><td>1</td><td>0</td><td>0</td><td>0</td><td>1</td><td>0</td><td>1</td><td>0</td><td>0</td><td>0</td><td>⋯</td><td> 3</td><td>12.0120</td><td>1</td><td>0</td><td>0</td><td>240.24</td><td>4.761905</td><td>12.0120</td><td>5.4</td><td> 252.2520</td></tr>\n",
              "\t<tr><th scope=row>975</th><td>0</td><td>0</td><td>1</td><td>0</td><td>1</td><td>0</td><td>1</td><td>0</td><td>1</td><td>0</td><td>⋯</td><td> 2</td><td> 8.6130</td><td>1</td><td>0</td><td>0</td><td>172.26</td><td>4.761905</td><td> 8.6130</td><td>8.2</td><td> 180.8730</td></tr>\n",
              "\t<tr><th scope=row>976</th><td>0</td><td>1</td><td>0</td><td>1</td><td>0</td><td>0</td><td>1</td><td>0</td><td>1</td><td>0</td><td>⋯</td><td> 2</td><td> 4.9920</td><td>0</td><td>1</td><td>0</td><td> 99.84</td><td>4.761905</td><td> 4.9920</td><td>7.0</td><td> 104.8320</td></tr>\n",
              "\t<tr><th scope=row>977</th><td>1</td><td>0</td><td>0</td><td>0</td><td>1</td><td>1</td><td>0</td><td>0</td><td>0</td><td>1</td><td>⋯</td><td> 4</td><td>14.9320</td><td>1</td><td>0</td><td>0</td><td>298.64</td><td>4.761905</td><td>14.9320</td><td>8.5</td><td> 313.5720</td></tr>\n",
              "\t<tr><th scope=row>978</th><td>0</td><td>1</td><td>0</td><td>1</td><td>0</td><td>0</td><td>1</td><td>0</td><td>0</td><td>1</td><td>⋯</td><td> 6</td><td> 7.9800</td><td>0</td><td>0</td><td>1</td><td>159.60</td><td>4.761905</td><td> 7.9800</td><td>4.9</td><td> 167.5800</td></tr>\n",
              "\t<tr><th scope=row>979</th><td>0</td><td>1</td><td>0</td><td>0</td><td>1</td><td>1</td><td>0</td><td>1</td><td>0</td><td>0</td><td>⋯</td><td> 1</td><td> 1.2725</td><td>0</td><td>1</td><td>0</td><td> 25.45</td><td>4.761905</td><td> 1.2725</td><td>5.1</td><td>  26.7225</td></tr>\n",
              "\t<tr><th scope=row>980</th><td>0</td><td>1</td><td>0</td><td>0</td><td>1</td><td>1</td><td>0</td><td>0</td><td>0</td><td>1</td><td>⋯</td><td> 1</td><td> 3.3885</td><td>0</td><td>1</td><td>0</td><td> 67.77</td><td>4.761905</td><td> 3.3885</td><td>6.5</td><td>  71.1585</td></tr>\n",
              "\t<tr><th scope=row>981</th><td>0</td><td>0</td><td>1</td><td>1</td><td>0</td><td>0</td><td>1</td><td>0</td><td>0</td><td>1</td><td>⋯</td><td> 4</td><td>11.9180</td><td>1</td><td>0</td><td>0</td><td>238.36</td><td>4.761905</td><td>11.9180</td><td>9.8</td><td> 250.2780</td></tr>\n",
              "\t<tr><th scope=row>982</th><td>1</td><td>0</td><td>0</td><td>0</td><td>1</td><td>0</td><td>1</td><td>0</td><td>0</td><td>0</td><td>⋯</td><td> 4</td><td>11.6300</td><td>1</td><td>0</td><td>0</td><td>232.60</td><td>4.761905</td><td>11.6300</td><td>8.4</td><td> 244.2300</td></tr>\n",
              "\t<tr><th scope=row>983</th><td>1</td><td>0</td><td>0</td><td>1</td><td>0</td><td>1</td><td>0</td><td>0</td><td>0</td><td>0</td><td>⋯</td><td> 9</td><td>43.8660</td><td>0</td><td>0</td><td>1</td><td>877.32</td><td>4.761905</td><td>43.8660</td><td>7.4</td><td> 921.1860</td></tr>\n",
              "\t<tr><th scope=row>984</th><td>0</td><td>0</td><td>1</td><td>0</td><td>1</td><td>0</td><td>1</td><td>0</td><td>0</td><td>0</td><td>⋯</td><td> 7</td><td>34.9860</td><td>1</td><td>0</td><td>0</td><td>699.72</td><td>4.761905</td><td>34.9860</td><td>6.1</td><td> 734.7060</td></tr>\n",
              "\t<tr><th scope=row>985</th><td>0</td><td>0</td><td>1</td><td>0</td><td>1</td><td>0</td><td>1</td><td>1</td><td>0</td><td>0</td><td>⋯</td><td> 7</td><td>33.7295</td><td>1</td><td>0</td><td>0</td><td>674.59</td><td>4.761905</td><td>33.7295</td><td>6.0</td><td> 708.3195</td></tr>\n",
              "\t<tr><th scope=row>986</th><td>0</td><td>1</td><td>0</td><td>0</td><td>1</td><td>1</td><td>0</td><td>0</td><td>1</td><td>0</td><td>⋯</td><td> 5</td><td>15.9275</td><td>0</td><td>0</td><td>1</td><td>318.55</td><td>4.761905</td><td>15.9275</td><td>8.5</td><td> 334.4775</td></tr>\n",
              "\t<tr><th scope=row>987</th><td>0</td><td>1</td><td>0</td><td>0</td><td>1</td><td>1</td><td>0</td><td>0</td><td>0</td><td>0</td><td>⋯</td><td> 2</td><td> 1.4760</td><td>0</td><td>0</td><td>1</td><td> 29.52</td><td>4.761905</td><td> 1.4760</td><td>4.3</td><td>  30.9960</td></tr>\n",
              "\t<tr><th scope=row>988</th><td>0</td><td>1</td><td>0</td><td>1</td><td>0</td><td>0</td><td>1</td><td>0</td><td>0</td><td>0</td><td>⋯</td><td> 8</td><td>24.8000</td><td>0</td><td>1</td><td>0</td><td>496.00</td><td>4.761905</td><td>24.8000</td><td>6.2</td><td> 520.8000</td></tr>\n",
              "\t<tr><th scope=row>989</th><td>0</td><td>0</td><td>1</td><td>1</td><td>0</td><td>0</td><td>1</td><td>1</td><td>0</td><td>0</td><td>⋯</td><td>10</td><td>41.1700</td><td>0</td><td>0</td><td>1</td><td>823.40</td><td>4.761905</td><td>41.1700</td><td>4.3</td><td> 864.5700</td></tr>\n",
              "\t<tr><th scope=row>990</th><td>0</td><td>1</td><td>0</td><td>1</td><td>0</td><td>0</td><td>1</td><td>0</td><td>0</td><td>0</td><td>⋯</td><td> 8</td><td>30.1480</td><td>0</td><td>1</td><td>0</td><td>602.96</td><td>4.761905</td><td>30.1480</td><td>8.4</td><td> 633.1080</td></tr>\n",
              "\t<tr><th scope=row>991</th><td>1</td><td>0</td><td>0</td><td>0</td><td>1</td><td>1</td><td>0</td><td>0</td><td>0</td><td>1</td><td>⋯</td><td> 5</td><td>14.1400</td><td>0</td><td>1</td><td>0</td><td>282.80</td><td>4.761905</td><td>14.1400</td><td>4.5</td><td> 296.9400</td></tr>\n",
              "\t<tr><th scope=row>992</th><td>0</td><td>1</td><td>0</td><td>0</td><td>1</td><td>1</td><td>0</td><td>0</td><td>0</td><td>0</td><td>⋯</td><td>10</td><td>38.3000</td><td>0</td><td>0</td><td>1</td><td>766.00</td><td>4.761905</td><td>38.3000</td><td>6.0</td><td> 804.3000</td></tr>\n",
              "\t<tr><th scope=row>993</th><td>1</td><td>0</td><td>0</td><td>0</td><td>1</td><td>0</td><td>1</td><td>1</td><td>0</td><td>0</td><td>⋯</td><td> 2</td><td> 5.8030</td><td>0</td><td>0</td><td>1</td><td>116.06</td><td>4.761905</td><td> 5.8030</td><td>8.8</td><td> 121.8630</td></tr>\n",
              "\t<tr><th scope=row>994</th><td>0</td><td>1</td><td>0</td><td>0</td><td>1</td><td>0</td><td>1</td><td>0</td><td>1</td><td>0</td><td>⋯</td><td>10</td><td> 8.7450</td><td>0</td><td>0</td><td>1</td><td>174.90</td><td>4.761905</td><td> 8.7450</td><td>6.6</td><td> 183.6450</td></tr>\n",
              "\t<tr><th scope=row>995</th><td>0</td><td>0</td><td>1</td><td>1</td><td>0</td><td>1</td><td>0</td><td>1</td><td>0</td><td>0</td><td>⋯</td><td> 1</td><td> 3.0475</td><td>0</td><td>0</td><td>1</td><td> 60.95</td><td>4.761905</td><td> 3.0475</td><td>5.9</td><td>  63.9975</td></tr>\n",
              "\t<tr><th scope=row>996</th><td>0</td><td>0</td><td>1</td><td>0</td><td>1</td><td>0</td><td>1</td><td>0</td><td>0</td><td>0</td><td>⋯</td><td> 1</td><td> 2.0175</td><td>0</td><td>0</td><td>1</td><td> 40.35</td><td>4.761905</td><td> 2.0175</td><td>6.2</td><td>  42.3675</td></tr>\n",
              "\t<tr><th scope=row>997</th><td>0</td><td>1</td><td>0</td><td>0</td><td>1</td><td>1</td><td>0</td><td>0</td><td>0</td><td>0</td><td>⋯</td><td>10</td><td>48.6900</td><td>0</td><td>0</td><td>1</td><td>973.80</td><td>4.761905</td><td>48.6900</td><td>4.4</td><td>1022.4900</td></tr>\n",
              "\t<tr><th scope=row>998</th><td>1</td><td>0</td><td>0</td><td>1</td><td>0</td><td>0</td><td>1</td><td>0</td><td>0</td><td>1</td><td>⋯</td><td> 1</td><td> 1.5920</td><td>1</td><td>0</td><td>0</td><td> 31.84</td><td>4.761905</td><td> 1.5920</td><td>7.7</td><td>  33.4320</td></tr>\n",
              "\t<tr><th scope=row>999</th><td>1</td><td>0</td><td>0</td><td>0</td><td>1</td><td>0</td><td>1</td><td>0</td><td>0</td><td>0</td><td>⋯</td><td> 1</td><td> 3.2910</td><td>1</td><td>0</td><td>0</td><td> 65.82</td><td>4.761905</td><td> 3.2910</td><td>4.1</td><td>  69.1110</td></tr>\n",
              "\t<tr><th scope=row>1000</th><td>1</td><td>0</td><td>0</td><td>1</td><td>0</td><td>1</td><td>0</td><td>0</td><td>1</td><td>0</td><td>⋯</td><td> 7</td><td>30.9190</td><td>1</td><td>0</td><td>0</td><td>618.38</td><td>4.761905</td><td>30.9190</td><td>6.6</td><td> 649.2990</td></tr>\n",
              "</tbody>\n",
              "</table>\n"
            ]
          },
          "metadata": {}
        }
      ]
    },
    {
      "cell_type": "code",
      "source": [
        "# standardising\n",
        "real_df.pca<-prcomp((real_df),center = TRUE)\n",
        "print(real_df.pca)"
      ],
      "metadata": {
        "colab": {
          "base_uri": "https://localhost:8080/"
        },
        "id": "wRSm0KmcH-0K",
        "outputId": "349f2071-ffc6-44bb-a237-9727353f583f"
      },
      "execution_count": 86,
      "outputs": [
        {
          "output_type": "stream",
          "name": "stdout",
          "text": [
            "Standard deviations (1, .., p=24):\n",
            " [1] 3.403819e+02 2.053220e+01 1.719967e+00 1.246753e+00 7.268821e-01\n",
            " [6] 6.944099e-01 5.945089e-01 5.811926e-01 5.690861e-01 5.568613e-01\n",
            "[11] 4.180209e-01 4.106769e-01 4.077796e-01 4.004978e-01 3.904585e-01\n",
            "[16] 1.145177e-13 5.038728e-15 1.694650e-15 1.150768e-15 3.197777e-16\n",
            "[21] 2.124103e-16 1.060106e-16 5.282457e-17 5.857208e-33\n",
            "\n",
            "Rotation (n x k) = (24 x 24):\n",
            "                                             PC1           PC2           PC3\n",
            "BranchA                            -4.317932e-05  1.346280e-04 -6.992094e-03\n",
            "BranchB                            -1.225823e-05 -1.564833e-04  1.952501e-02\n",
            "BranchC                             5.543756e-05  2.185531e-05 -1.253292e-02\n",
            "Customer.type.Member                2.895310e-05 -2.410048e-04  5.964620e-03\n",
            "Customer.type.Normal               -2.895310e-05  2.410048e-04 -5.964620e-03\n",
            "GenderFemale                        7.241457e-05  1.480937e-03  3.773505e-04\n",
            "GenderMale                         -7.241457e-05 -1.480937e-03 -3.773505e-04\n",
            "Product.lineElectronic.accessories -6.914793e-06  7.680978e-04  2.419996e-03\n",
            "Product.lineFashion.accessories    -3.785609e-05 -1.149526e-03 -2.696386e-03\n",
            "Product.lineFood.and.beverages     -5.881774e-07 -1.481356e-04 -8.758066e-03\n",
            "Product.lineHealth.and.beauty       1.174027e-06  3.134726e-04 -1.857043e-03\n",
            "Product.lineHome.and.lifestyle      2.607184e-05  4.911718e-04  7.566469e-03\n",
            "Product.lineSports.and.travel       1.811319e-05 -2.750808e-04  3.325031e-03\n",
            "Unit.price                          4.952379e-02 -9.955132e-01 -4.304843e-03\n",
            "Quantity                            6.045147e-03  8.095755e-02 -7.229605e-02\n",
            "Tax                                 3.439894e-02  1.683259e-03  1.610534e-05\n",
            "PaymentCash                         1.335518e-05 -7.066861e-04 -9.053133e-05\n",
            "PaymentCredit.card                  3.700809e-06  9.936552e-04 -2.995612e-03\n",
            "PaymentEwallet                     -1.705599e-05 -2.869692e-04  3.086143e-03\n",
            "cogs                                6.879787e-01  3.366518e-02  3.221069e-04\n",
            "gross.margin.percentage             0.000000e+00  0.000000e+00  0.000000e+00\n",
            "gross.income                        3.439894e-02  1.683259e-03  1.610534e-05\n",
            "Rating                             -1.837158e-04 -1.550605e-03 -9.969533e-01\n",
            "Total                               7.223777e-01  3.534844e-02  3.382122e-04\n",
            "                                             PC4           PC5           PC6\n",
            "BranchA                            -0.0081092264 -6.986139e-02 -4.634505e-02\n",
            "BranchB                            -0.0065364381 -2.367326e-02 -1.838097e-02\n",
            "BranchC                             0.0146456646  9.353465e-02  6.472602e-02\n",
            "Customer.type.Member               -0.0123381047  4.918762e-01 -4.944682e-01\n",
            "Customer.type.Normal                0.0123381047 -4.918762e-01  4.944682e-01\n",
            "GenderFemale                       -0.0067447699  4.838099e-01  4.951605e-01\n",
            "GenderMale                          0.0067447699 -4.838099e-01 -4.951605e-01\n",
            "Product.lineElectronic.accessories -0.0098507148 -2.460164e-02  2.193549e-02\n",
            "Product.lineFashion.accessories     0.0100881739  1.523054e-02  3.607026e-02\n",
            "Product.lineFood.and.beverages      0.0023408025  3.344629e-02 -1.301676e-02\n",
            "Product.lineHealth.and.beauty      -0.0030323564 -3.883049e-02 -2.856066e-02\n",
            "Product.lineHome.and.lifestyle      0.0026481550 -6.066703e-03 -1.723092e-02\n",
            "Product.lineSports.and.travel      -0.0021940602  2.082200e-02  8.025910e-04\n",
            "Unit.price                         -0.0803914723  2.697108e-04  1.900570e-03\n",
            "Quantity                           -0.9932488132 -1.214738e-02  4.236162e-03\n",
            "Tax                                 0.0003448291 -1.680392e-06 -5.827283e-06\n",
            "PaymentCash                        -0.0124112021  2.100639e-02  8.049268e-02\n",
            "PaymentCredit.card                  0.0229572945  1.099411e-01 -6.381440e-02\n",
            "PaymentEwallet                     -0.0105460924 -1.309475e-01 -1.667828e-02\n",
            "cogs                                0.0068965818 -3.360783e-05 -1.165457e-04\n",
            "gross.margin.percentage             0.0000000000  0.000000e+00  0.000000e+00\n",
            "gross.income                        0.0003448291 -1.680392e-06 -5.827283e-06\n",
            "Rating                              0.0718174185  4.945474e-03 -6.577976e-03\n",
            "Total                               0.0072414109 -3.528822e-05 -1.223729e-04\n",
            "                                             PC7           PC8           PC9\n",
            "BranchA                             4.021010e-01 -5.013465e-01  4.878754e-01\n",
            "BranchB                            -3.072705e-02  7.255413e-01  7.670118e-02\n",
            "BranchC                            -3.713739e-01 -2.241948e-01 -5.645766e-01\n",
            "Customer.type.Member                1.494534e-02 -3.896487e-02 -3.438763e-02\n",
            "Customer.type.Normal               -1.494534e-02  3.896487e-02  3.438763e-02\n",
            "GenderFemale                        1.230422e-01  3.778082e-03  1.751362e-02\n",
            "GenderMale                         -1.230422e-01 -3.778082e-03 -1.751362e-02\n",
            "Product.lineElectronic.accessories -5.878434e-02 -3.808580e-02  3.762861e-02\n",
            "Product.lineFashion.accessories     9.248036e-04  4.286754e-02 -7.004800e-02\n",
            "Product.lineFood.and.beverages     -1.252985e-02 -2.465907e-02 -1.966412e-02\n",
            "Product.lineHealth.and.beauty      -1.662300e-02  3.009894e-02 -2.211807e-02\n",
            "Product.lineHome.and.lifestyle      7.073199e-02 -4.306240e-02  1.199410e-02\n",
            "Product.lineSports.and.travel       1.628040e-02  3.284078e-02  6.220747e-02\n",
            "Unit.price                          2.835706e-04  9.931622e-04  1.480311e-04\n",
            "Quantity                           -5.708181e-03  9.545425e-03 -3.932443e-03\n",
            "Tax                                 1.878416e-06 -3.424637e-06  1.814831e-06\n",
            "PaymentCash                        -6.102333e-01 -2.461055e-01  2.441250e-01\n",
            "PaymentCredit.card                  8.045780e-02  3.100149e-01  2.864317e-01\n",
            "PaymentEwallet                      5.297755e-01 -6.390937e-02 -5.305567e-01\n",
            "cogs                                3.756832e-05 -6.849274e-05  3.629663e-05\n",
            "gross.margin.percentage             0.000000e+00  0.000000e+00  0.000000e+00\n",
            "gross.income                        1.878416e-06 -3.424637e-06  1.814831e-06\n",
            "Rating                              3.972024e-03  1.801201e-02  3.332263e-03\n",
            "Total                               3.944674e-05 -7.191737e-05  3.811146e-05\n",
            "                                            PC10          PC11          PC12\n",
            "BranchA                            -1.212346e-02  4.683133e-02  3.947980e-02\n",
            "BranchB                            -3.565883e-01 -3.981982e-02  2.742694e-02\n",
            "BranchC                             3.687118e-01 -7.011517e-03 -6.690675e-02\n",
            "Customer.type.Member               -9.660715e-02  1.869025e-02 -1.653173e-02\n",
            "Customer.type.Normal                9.660715e-02 -1.869025e-02  1.653173e-02\n",
            "GenderFemale                       -5.503736e-02 -1.657050e-02 -1.371683e-02\n",
            "GenderMale                          5.503736e-02  1.657050e-02  1.371683e-02\n",
            "Product.lineElectronic.accessories -4.391860e-02 -6.266945e-02 -6.530936e-01\n",
            "Product.lineFashion.accessories     1.743646e-02  7.939888e-01  3.694842e-01\n",
            "Product.lineFood.and.beverages      7.980866e-02 -5.904465e-01  6.074805e-01\n",
            "Product.lineHealth.and.beauty       3.023655e-02 -3.009885e-02 -7.850741e-02\n",
            "Product.lineHome.and.lifestyle     -4.246695e-02 -1.832158e-02 -3.748750e-02\n",
            "Product.lineSports.and.travel      -4.109613e-02 -9.245241e-02 -2.078761e-01\n",
            "Unit.price                          3.667009e-03 -2.629398e-04 -4.142510e-04\n",
            "Quantity                            3.364291e-02  7.819427e-03  8.802560e-03\n",
            "Tax                                -1.379546e-05 -1.072324e-08 -4.160987e-07\n",
            "PaymentCash                        -3.990662e-01  1.711401e-02  7.625755e-02\n",
            "PaymentCredit.card                  6.783926e-01  2.026168e-02 -5.478804e-02\n",
            "PaymentEwallet                     -2.793264e-01 -3.737568e-02 -2.146951e-02\n",
            "cogs                               -2.759091e-04 -2.144649e-07 -8.321975e-06\n",
            "gross.margin.percentage             0.000000e+00  0.000000e+00  0.000000e+00\n",
            "gross.income                       -1.379546e-05 -1.072324e-08 -4.160987e-07\n",
            "Rating                             -1.942455e-02  9.429642e-04 -8.404981e-03\n",
            "Total                              -2.897046e-04 -2.251881e-07 -8.738074e-06\n",
            "                                            PC13          PC14          PC15\n",
            "BranchA                            -1.698965e-02 -4.196075e-02  5.019408e-02\n",
            "BranchB                            -4.573515e-02  2.005871e-02 -1.094963e-02\n",
            "BranchC                             6.272480e-02  2.190204e-02 -3.924445e-02\n",
            "Customer.type.Member               -1.662713e-02 -7.324394e-03  1.270006e-02\n",
            "Customer.type.Normal                1.662713e-02  7.324394e-03 -1.270006e-02\n",
            "GenderFemale                       -7.278376e-03  1.805974e-02  3.694340e-02\n",
            "GenderMale                          7.278376e-03 -1.805974e-02 -3.694340e-02\n",
            "Product.lineElectronic.accessories -5.662916e-01 -2.406569e-01 -1.217866e-01\n",
            "Product.lineFashion.accessories    -1.335271e-01 -1.866233e-01 -7.103670e-02\n",
            "Product.lineFood.and.beverages     -2.448898e-01 -2.011193e-01 -7.976422e-02\n",
            "Product.lineHealth.and.beauty       1.079232e-01  2.082772e-01  8.753943e-01\n",
            "Product.lineHome.and.lifestyle      7.786826e-02  8.132287e-01 -3.936814e-01\n",
            "Product.lineSports.and.travel       7.589170e-01 -3.931064e-01 -2.091254e-01\n",
            "Unit.price                         -1.442376e-04  1.014872e-03 -2.787706e-04\n",
            "Quantity                            3.430372e-03  4.003930e-03 -6.038842e-03\n",
            "Tax                                -1.429140e-06 -3.547368e-06  1.973379e-06\n",
            "PaymentCash                         2.387047e-02  2.792516e-02  1.818168e-02\n",
            "PaymentCredit.card                 -1.319662e-02  2.430857e-02 -3.083238e-02\n",
            "PaymentEwallet                     -1.067385e-02 -5.223372e-02  1.265070e-02\n",
            "cogs                               -2.858279e-05 -7.094736e-05  3.946758e-05\n",
            "gross.margin.percentage             0.000000e+00  0.000000e+00  0.000000e+00\n",
            "gross.income                       -1.429140e-06 -3.547368e-06  1.973379e-06\n",
            "Rating                              2.045680e-03  5.966179e-03 -4.042642e-03\n",
            "Total                              -3.001193e-05 -7.449473e-05  4.144096e-05\n",
            "                                            PC16          PC17          PC18\n",
            "BranchA                             3.934144e-04 -3.042334e-02 -1.007361e-01\n",
            "BranchB                             3.934144e-04 -3.042334e-02 -1.007361e-01\n",
            "BranchC                             3.934144e-04 -3.042334e-02 -1.007361e-01\n",
            "Customer.type.Member                3.599369e-05 -7.865234e-03  4.895735e-02\n",
            "Customer.type.Normal                3.599369e-05 -7.865234e-03  4.895735e-02\n",
            "GenderFemale                       -2.825468e-05  2.052873e-03  1.250302e-03\n",
            "GenderMale                         -2.825468e-05  2.052873e-03  1.250302e-03\n",
            "Product.lineElectronic.accessories -2.084574e-05  4.145021e-03  2.226924e-02\n",
            "Product.lineFashion.accessories    -2.084574e-05  4.145021e-03  2.226924e-02\n",
            "Product.lineFood.and.beverages     -2.084574e-05  4.145021e-03  2.226924e-02\n",
            "Product.lineHealth.and.beauty      -2.084574e-05  4.145021e-03  2.226924e-02\n",
            "Product.lineHome.and.lifestyle     -2.084574e-05  4.145021e-03  2.226924e-02\n",
            "Product.lineSports.and.travel      -2.084574e-05  4.145021e-03  2.226924e-02\n",
            "Unit.price                         -6.004745e-16 -1.008308e-16  3.122502e-17\n",
            "Quantity                            5.085775e-14 -1.160991e-15 -6.278615e-16\n",
            "Tax                                 8.196065e-03  6.883541e-01  7.033311e-01\n",
            "PaymentCash                        -1.812004e-05 -8.144079e-03  7.155008e-03\n",
            "PaymentCredit.card                 -1.812004e-05 -8.144079e-03  7.155008e-03\n",
            "PaymentEwallet                     -1.812004e-05 -8.144079e-03  7.155008e-03\n",
            "cogs                                7.240494e-01 -3.442265e-02 -7.565386e-03\n",
            "gross.margin.percentage             0.000000e+00  0.000000e+00  0.000000e+00\n",
            "gross.income                       -6.062260e-03  7.215211e-01 -6.832715e-01\n",
            "Rating                              1.671567e-15 -7.792703e-17  2.228035e-17\n",
            "Total                              -6.896725e-01 -3.435343e-02  6.249909e-03\n",
            "                                            PC19          PC20          PC21\n",
            "BranchA                             5.491843e-01 -6.710101e-02  9.205929e-02\n",
            "BranchB                             5.491843e-01 -6.710101e-02  9.205929e-02\n",
            "BranchC                             5.491843e-01 -6.710101e-02  9.205929e-02\n",
            "Customer.type.Member                7.624710e-02  6.557447e-01  2.060924e-01\n",
            "Customer.type.Normal                7.624710e-02  6.557447e-01  2.060924e-01\n",
            "GenderFemale                       -1.619420e-02  7.678146e-03  4.102814e-02\n",
            "GenderMale                         -1.619420e-02  7.678146e-03  4.102814e-02\n",
            "Product.lineElectronic.accessories -7.715512e-02  3.102470e-02  1.659600e-01\n",
            "Product.lineFashion.accessories    -7.715512e-02  3.102470e-02  1.659600e-01\n",
            "Product.lineFood.and.beverages     -7.715512e-02  3.102470e-02  1.659600e-01\n",
            "Product.lineHealth.and.beauty      -7.715512e-02  3.102470e-02  1.659600e-01\n",
            "Product.lineHome.and.lifestyle     -7.715512e-02  3.102470e-02  1.659600e-01\n",
            "Product.lineSports.and.travel      -7.715512e-02  3.102470e-02  1.659600e-01\n",
            "Unit.price                          2.706169e-16  1.994932e-17  8.933826e-17\n",
            "Quantity                            4.057952e-15 -5.808613e-16  6.474855e-16\n",
            "Tax                                 1.618155e-01 -6.281169e-02 -6.262436e-03\n",
            "PaymentCash                         7.069060e-02  1.928650e-01 -4.902260e-01\n",
            "PaymentCredit.card                  7.069060e-02  1.928650e-01 -4.902260e-01\n",
            "PaymentEwallet                      7.069060e-02  1.928650e-01 -4.902260e-01\n",
            "cogs                               -3.768716e-03  5.210763e-04  1.023505e-04\n",
            "gross.margin.percentage             0.000000e+00 -1.110223e-16 -6.938894e-17\n",
            "gross.income                       -7.829770e-02  7.113282e-02 -4.256898e-04\n",
            "Rating                              1.400789e-16  1.434942e-16  4.808437e-17\n",
            "Total                              -3.877828e-04 -8.925076e-04  2.210055e-04\n",
            "                                            PC22          PC23          PC24\n",
            "BranchA                             8.576563e-02  1.797923e-02  0.000000e+00\n",
            "BranchB                             8.576563e-02  1.797923e-02 -7.332337e-32\n",
            "BranchC                             8.576563e-02  1.797923e-02  2.853844e-34\n",
            "Customer.type.Member               -1.348309e-01 -3.275831e-02  3.810896e-17\n",
            "Customer.type.Normal               -1.348309e-01 -3.275831e-02  3.810896e-17\n",
            "GenderFemale                       -7.913908e-02  7.012323e-01 -8.325660e-16\n",
            "GenderMale                         -7.913908e-02  7.012323e-01 -8.325660e-16\n",
            "Product.lineElectronic.accessories  3.617427e-01  2.894180e-02  4.227727e-17\n",
            "Product.lineFashion.accessories     3.617427e-01  2.894180e-02  4.227727e-17\n",
            "Product.lineFood.and.beverages      3.617427e-01  2.894180e-02  4.227727e-17\n",
            "Product.lineHealth.and.beauty       3.617427e-01  2.894180e-02  4.227727e-17\n",
            "Product.lineHome.and.lifestyle      3.617427e-01  2.894180e-02  4.227727e-17\n",
            "Product.lineSports.and.travel       3.617427e-01  2.894180e-02  4.227727e-17\n",
            "Unit.price                          3.989864e-17  2.038300e-17 -1.018295e-32\n",
            "Quantity                            6.128995e-16  2.100371e-16 -2.150037e-32\n",
            "Tax                                -8.456931e-03  5.678043e-04 -4.278068e-18\n",
            "PaymentCash                         2.188612e-01  5.291434e-02 -6.138633e-17\n",
            "PaymentCredit.card                  2.188612e-01  5.291434e-02 -6.138633e-17\n",
            "PaymentEwallet                      2.188612e-01  5.291434e-02 -6.138633e-17\n",
            "cogs                                2.820049e-06  4.502623e-05 -2.608070e-20\n",
            "gross.margin.percentage            -2.220446e-16  1.165734e-15  1.000000e+00\n",
            "gross.income                        1.136363e-02 -2.173932e-03  6.114267e-18\n",
            "Rating                             -1.078781e-17 -1.105886e-17 -6.591165e-33\n",
            "Total                              -1.411000e-04  3.360015e-05 -6.259930e-20\n"
          ]
        }
      ]
    },
    {
      "cell_type": "code",
      "source": [
        "# summary of pca\n",
        "summary(real_df.pca)"
      ],
      "metadata": {
        "colab": {
          "base_uri": "https://localhost:8080/",
          "height": 327
        },
        "id": "F7LLoBrzV2g6",
        "outputId": "d5a13ab0-5da4-4388-fadb-889757e78dfd"
      },
      "execution_count": 87,
      "outputs": [
        {
          "output_type": "display_data",
          "data": {
            "text/plain": [
              "Importance of components:\n",
              "                            PC1      PC2     PC3     PC4    PC5    PC6    PC7\n",
              "Standard deviation     340.3819 20.53220 1.71997 1.24675 0.7269 0.6944 0.5945\n",
              "Proportion of Variance   0.9963  0.00363 0.00003 0.00001 0.0000 0.0000 0.0000\n",
              "Cumulative Proportion    0.9963  0.99993 0.99996 0.99997 1.0000 1.0000 1.0000\n",
              "                          PC8    PC9   PC10  PC11   PC12   PC13   PC14   PC15\n",
              "Standard deviation     0.5812 0.5691 0.5569 0.418 0.4107 0.4078 0.4005 0.3905\n",
              "Proportion of Variance 0.0000 0.0000 0.0000 0.000 0.0000 0.0000 0.0000 0.0000\n",
              "Cumulative Proportion  1.0000 1.0000 1.0000 1.000 1.0000 1.0000 1.0000 1.0000\n",
              "                            PC16      PC17      PC18      PC19      PC20\n",
              "Standard deviation     1.145e-13 5.039e-15 1.695e-15 1.151e-15 3.198e-16\n",
              "Proportion of Variance 0.000e+00 0.000e+00 0.000e+00 0.000e+00 0.000e+00\n",
              "Cumulative Proportion  1.000e+00 1.000e+00 1.000e+00 1.000e+00 1.000e+00\n",
              "                            PC21     PC22      PC23      PC24\n",
              "Standard deviation     2.124e-16 1.06e-16 5.282e-17 5.857e-33\n",
              "Proportion of Variance 0.000e+00 0.00e+00 0.000e+00 0.000e+00\n",
              "Cumulative Proportion  1.000e+00 1.00e+00 1.000e+00 1.000e+00"
            ]
          },
          "metadata": {}
        }
      ]
    },
    {
      "cell_type": "code",
      "source": [
        "# plotting to see the data in the new reduced dimension using standard dev\n",
        "\n",
        "plot(real_df.pca$sdev,main=\"Standard deviation for each Component\")\n",
        "# the first has the most significance followed by the second component. The rest range around zero"
      ],
      "metadata": {
        "colab": {
          "base_uri": "https://localhost:8080/",
          "height": 437
        },
        "id": "JDLgRBr3IcT3",
        "outputId": "f90c848c-cf47-46b2-c33e-9b9acc127618"
      },
      "execution_count": 89,
      "outputs": [
        {
          "output_type": "display_data",
          "data": {
            "image/png": "[encoded data removed]",
            "text/plain": [
              "Plot with title “Standard deviation for each Component”"
            ]
          },
          "metadata": {
            "image/png": {
              "width": 420,
              "height": 420
            }
          }
        }
      ]
    },
    {
      "cell_type": "markdown",
      "source": [
        "## Feature selection"
      ],
      "metadata": {
        "id": "sLysxxarfObl"
      }
    },
    {
      "cell_type": "code",
      "source": [
        "#dealing with numeric features and finding correlation \n",
        "numeric_df <- select_if(df,is.numeric)\n",
        "#summary(numeric_df)\n",
        "corr<- cor(numeric_df)\n",
        "corr"
      ],
      "metadata": {
        "colab": {
          "base_uri": "https://localhost:8080/",
          "height": 374
        },
        "id": "7Xtk2qkQXXdT",
        "outputId": "cd1fa9b1-8dfd-4466-b1f3-a14c2292d23f"
      },
      "execution_count": 109,
      "outputs": [
        {
          "output_type": "stream",
          "name": "stderr",
          "text": [
            "Warning message in cor(numeric_df):\n",
            "“the standard deviation is zero”\n"
          ]
        },
        {
          "output_type": "display_data",
          "data": {
            "text/plain": [
              "                        Unit.price   Quantity    Tax        cogs      \n",
              "Unit.price               1.000000000  0.01077756  0.6339621  0.6339621\n",
              "Quantity                 0.010777564  1.00000000  0.7055102  0.7055102\n",
              "Tax                      0.633962089  0.70551019  1.0000000  1.0000000\n",
              "cogs                     0.633962089  0.70551019  1.0000000  1.0000000\n",
              "gross.margin.percentage           NA          NA         NA         NA\n",
              "gross.income             0.633962089  0.70551019  1.0000000  1.0000000\n",
              "Rating                  -0.008777507 -0.01581490 -0.0364417 -0.0364417\n",
              "Total                    0.633962089  0.70551019  1.0000000  1.0000000\n",
              "                        gross.margin.percentage gross.income Rating      \n",
              "Unit.price              NA                       0.6339621   -0.008777507\n",
              "Quantity                NA                       0.7055102   -0.015814905\n",
              "Tax                     NA                       1.0000000   -0.036441705\n",
              "cogs                    NA                       1.0000000   -0.036441705\n",
              "gross.margin.percentage  1                              NA             NA\n",
              "gross.income            NA                       1.0000000   -0.036441705\n",
              "Rating                  NA                      -0.0364417    1.000000000\n",
              "Total                   NA                       1.0000000   -0.036441705\n",
              "                        Total     \n",
              "Unit.price               0.6339621\n",
              "Quantity                 0.7055102\n",
              "Tax                      1.0000000\n",
              "cogs                     1.0000000\n",
              "gross.margin.percentage         NA\n",
              "gross.income             1.0000000\n",
              "Rating                  -0.0364417\n",
              "Total                    1.0000000"
            ],
            "text/latex": "A matrix: 8 × 8 of type dbl\n\\begin{tabular}{r|llllllll}\n  & Unit.price & Quantity & Tax & cogs & gross.margin.percentage & gross.income & Rating & Total\\\\\n\\hline\n\tUnit.price &  1.000000000 &  0.01077756 &  0.6339621 &  0.6339621 & NA &  0.6339621 & -0.008777507 &  0.6339621\\\\\n\tQuantity &  0.010777564 &  1.00000000 &  0.7055102 &  0.7055102 & NA &  0.7055102 & -0.015814905 &  0.7055102\\\\\n\tTax &  0.633962089 &  0.70551019 &  1.0000000 &  1.0000000 & NA &  1.0000000 & -0.036441705 &  1.0000000\\\\\n\tcogs &  0.633962089 &  0.70551019 &  1.0000000 &  1.0000000 & NA &  1.0000000 & -0.036441705 &  1.0000000\\\\\n\tgross.margin.percentage &           NA &          NA &         NA &         NA &  1 &         NA &           NA &         NA\\\\\n\tgross.income &  0.633962089 &  0.70551019 &  1.0000000 &  1.0000000 & NA &  1.0000000 & -0.036441705 &  1.0000000\\\\\n\tRating & -0.008777507 & -0.01581490 & -0.0364417 & -0.0364417 & NA & -0.0364417 &  1.000000000 & -0.0364417\\\\\n\tTotal &  0.633962089 &  0.70551019 &  1.0000000 &  1.0000000 & NA &  1.0000000 & -0.036441705 &  1.0000000\\\\\n\\end{tabular}\n",
            "text/markdown": "\nA matrix: 8 × 8 of type dbl\n\n| <!--/--> | Unit.price | Quantity | Tax | cogs | gross.margin.percentage | gross.income | Rating | Total |\n|---|---|---|---|---|---|---|---|---|\n| Unit.price |  1.000000000 |  0.01077756 |  0.6339621 |  0.6339621 | NA |  0.6339621 | -0.008777507 |  0.6339621 |\n| Quantity |  0.010777564 |  1.00000000 |  0.7055102 |  0.7055102 | NA |  0.7055102 | -0.015814905 |  0.7055102 |\n| Tax |  0.633962089 |  0.70551019 |  1.0000000 |  1.0000000 | NA |  1.0000000 | -0.036441705 |  1.0000000 |\n| cogs |  0.633962089 |  0.70551019 |  1.0000000 |  1.0000000 | NA |  1.0000000 | -0.036441705 |  1.0000000 |\n| gross.margin.percentage |           NA |          NA |         NA |         NA |  1 |         NA |           NA |         NA |\n| gross.income |  0.633962089 |  0.70551019 |  1.0000000 |  1.0000000 | NA |  1.0000000 | -0.036441705 |  1.0000000 |\n| Rating | -0.008777507 | -0.01581490 | -0.0364417 | -0.0364417 | NA | -0.0364417 |  1.000000000 | -0.0364417 |\n| Total |  0.633962089 |  0.70551019 |  1.0000000 |  1.0000000 | NA |  1.0000000 | -0.036441705 |  1.0000000 |\n\n",
            "text/html": [
              "<table class=\"dataframe\">\n",
              "<caption>A matrix: 8 × 8 of type dbl</caption>\n",
              "<thead>\n",
              "\t<tr><th></th><th scope=col>Unit.price</th><th scope=col>Quantity</th><th scope=col>Tax</th><th scope=col>cogs</th><th scope=col>gross.margin.percentage</th><th scope=col>gross.income</th><th scope=col>Rating</th><th scope=col>Total</th></tr>\n",
              "</thead>\n",
              "<tbody>\n",
              "\t<tr><th scope=row>Unit.price</th><td> 1.000000000</td><td> 0.01077756</td><td> 0.6339621</td><td> 0.6339621</td><td>NA</td><td> 0.6339621</td><td>-0.008777507</td><td> 0.6339621</td></tr>\n",
              "\t<tr><th scope=row>Quantity</th><td> 0.010777564</td><td> 1.00000000</td><td> 0.7055102</td><td> 0.7055102</td><td>NA</td><td> 0.7055102</td><td>-0.015814905</td><td> 0.7055102</td></tr>\n",
              "\t<tr><th scope=row>Tax</th><td> 0.633962089</td><td> 0.70551019</td><td> 1.0000000</td><td> 1.0000000</td><td>NA</td><td> 1.0000000</td><td>-0.036441705</td><td> 1.0000000</td></tr>\n",
              "\t<tr><th scope=row>cogs</th><td> 0.633962089</td><td> 0.70551019</td><td> 1.0000000</td><td> 1.0000000</td><td>NA</td><td> 1.0000000</td><td>-0.036441705</td><td> 1.0000000</td></tr>\n",
              "\t<tr><th scope=row>gross.margin.percentage</th><td>          NA</td><td>         NA</td><td>        NA</td><td>        NA</td><td> 1</td><td>        NA</td><td>          NA</td><td>        NA</td></tr>\n",
              "\t<tr><th scope=row>gross.income</th><td> 0.633962089</td><td> 0.70551019</td><td> 1.0000000</td><td> 1.0000000</td><td>NA</td><td> 1.0000000</td><td>-0.036441705</td><td> 1.0000000</td></tr>\n",
              "\t<tr><th scope=row>Rating</th><td>-0.008777507</td><td>-0.01581490</td><td>-0.0364417</td><td>-0.0364417</td><td>NA</td><td>-0.0364417</td><td> 1.000000000</td><td>-0.0364417</td></tr>\n",
              "\t<tr><th scope=row>Total</th><td> 0.633962089</td><td> 0.70551019</td><td> 1.0000000</td><td> 1.0000000</td><td>NA</td><td> 1.0000000</td><td>-0.036441705</td><td> 1.0000000</td></tr>\n",
              "</tbody>\n",
              "</table>\n"
            ]
          },
          "metadata": {}
        }
      ]
    },
    {
      "cell_type": "code",
      "source": [
        "#getting the most correlated features\n",
        "most_corr <- findCorrelation(corr)\n",
        "most_corr\n",
        "# The most correlated are cogs,Tax and Total."
      ],
      "metadata": {
        "colab": {
          "base_uri": "https://localhost:8080/",
          "height": 35
        },
        "id": "6sd04ei9fiBh",
        "outputId": "542e1a36-a8bd-4d7c-8965-14e10fc9842a"
      },
      "execution_count": 115,
      "outputs": [
        {
          "output_type": "display_data",
          "data": {
            "text/plain": [
              "[1] 4 8 3"
            ],
            "text/latex": "\\begin{enumerate*}\n\\item 4\n\\item 8\n\\item 3\n\\end{enumerate*}\n",
            "text/markdown": "1. 4\n2. 8\n3. 3\n\n\n",
            "text/html": [
              "<style>\n",
              ".list-inline {list-style: none; margin:0; padding: 0}\n",
              ".list-inline>li {display: inline-block}\n",
              ".list-inline>li:not(:last-child)::after {content: \"\\00b7\"; padding: 0 .5ex}\n",
              "</style>\n",
              "<ol class=list-inline><li>4</li><li>8</li><li>3</li></ol>\n"
            ]
          },
          "metadata": {}
        }
      ]
    },
    {
      "cell_type": "markdown",
      "source": [
        "## Association Rules"
      ],
      "metadata": {
        "id": "m4qXKP-bn-b6"
      }
    },
    {
      "cell_type": "markdown",
      "source": [
        "This section will require that you create association rules that will allow you to identify relationships between variables in the dataset. You are provided with a separate dataset that comprises groups of items that will be associated with others. Just like in the other sections, you will also be required to provide insights for your analysis."
      ],
      "metadata": {
        "id": "iobKUQnppyIg"
      }
    },
    {
      "cell_type": "code",
      "source": [
        "# loading and previewing the dataset\n",
        "df2<- read.transactions('http://bit.ly/SupermarketDatasetII',sep=',')\n",
        "summary(df2)"
      ],
      "metadata": {
        "colab": {
          "base_uri": "https://localhost:8080/",
          "height": 510
        },
        "id": "QasE--cHm2Xw",
        "outputId": "59f89727-a3e3-4b75-bf21-74f46574b59d"
      },
      "execution_count": 124,
      "outputs": [
        {
          "output_type": "stream",
          "name": "stderr",
          "text": [
            "Warning message in asMethod(object):\n",
            "“removing duplicated items in transactions”\n"
          ]
        },
        {
          "output_type": "display_data",
          "data": {
            "text/plain": [
              "transactions as itemMatrix in sparse format with\n",
              " 7501 rows (elements/itemsets/transactions) and\n",
              " 119 columns (items) and a density of 0.03288973 \n",
              "\n",
              "most frequent items:\n",
              "mineral water          eggs     spaghetti  french fries     chocolate \n",
              "         1788          1348          1306          1282          1229 \n",
              "      (Other) \n",
              "        22405 \n",
              "\n",
              "element (itemset/transaction) length distribution:\n",
              "sizes\n",
              "   1    2    3    4    5    6    7    8    9   10   11   12   13   14   15   16 \n",
              "1754 1358 1044  816  667  493  391  324  259  139  102   67   40   22   17    4 \n",
              "  18   19   20 \n",
              "   1    2    1 \n",
              "\n",
              "   Min. 1st Qu.  Median    Mean 3rd Qu.    Max. \n",
              "  1.000   2.000   3.000   3.914   5.000  20.000 \n",
              "\n",
              "includes extended item information - examples:\n",
              "             labels\n",
              "1           almonds\n",
              "2 antioxydant juice\n",
              "3         asparagus"
            ]
          },
          "metadata": {}
        }
      ]
    },
    {
      "cell_type": "code",
      "source": [
        "# Checking the item frequency of the top 5 items\n",
        "itemFrequencyPlot(df2, topN = 5)\n"
      ],
      "metadata": {
        "colab": {
          "base_uri": "https://localhost:8080/",
          "height": 437
        },
        "id": "34GVsrV0rhcm",
        "outputId": "60771b60-0b48-4734-c412-4ca0048f02d9"
      },
      "execution_count": 134,
      "outputs": [
        {
          "output_type": "display_data",
          "data": {
            "image/png": "[encoded data removed]",
            "text/plain": [
              "plot without title"
            ]
          },
          "metadata": {
            "image/png": {
              "width": 420,
              "height": 420
            }
          }
        }
      ]
    },
    {
      "cell_type": "code",
      "source": [
        "# plotting to see the frequency of the items\n",
        "itemFrequencyPlot(df2,support= 0.1)"
      ],
      "metadata": {
        "colab": {
          "base_uri": "https://localhost:8080/",
          "height": 437
        },
        "id": "DQr7BfcVyWtD",
        "outputId": "b17d33a9-e373-47d0-a71c-c5847714f5a1"
      },
      "execution_count": 133,
      "outputs": [
        {
          "output_type": "display_data",
          "data": {
            "image/png": "[encoded data removed]",
            "text/plain": [
              "plot without title"
            ]
          },
          "metadata": {
            "image/png": {
              "width": 420,
              "height": 420
            }
          }
        }
      ]
    },
    {
      "cell_type": "code",
      "source": [
        "# apriori model building\n",
        "params <- apriori(df2, parameter = list(supp=0.001, conf=0.8))\n",
        "params"
      ],
      "metadata": {
        "colab": {
          "base_uri": "https://localhost:8080/",
          "height": 419
        },
        "id": "b7-MjUenzg5E",
        "outputId": "87ece416-5ed9-41bf-b319-cf4b8f7fbb32"
      },
      "execution_count": 141,
      "outputs": [
        {
          "output_type": "stream",
          "name": "stdout",
          "text": [
            "Apriori\n",
            "\n",
            "Parameter specification:\n",
            " confidence minval smax arem  aval originalSupport maxtime support minlen\n",
            "        0.8    0.1    1 none FALSE            TRUE       5   0.001      1\n",
            " maxlen target  ext\n",
            "     10  rules TRUE\n",
            "\n",
            "Algorithmic control:\n",
            " filter tree heap memopt load sort verbose\n",
            "    0.1 TRUE TRUE  FALSE TRUE    2    TRUE\n",
            "\n",
            "Absolute minimum support count: 7 \n",
            "\n",
            "set item appearances ...[0 item(s)] done [0.00s].\n",
            "set transactions ...[119 item(s), 7501 transaction(s)] done [0.00s].\n",
            "sorting and recoding items ... [116 item(s)] done [0.00s].\n",
            "creating transaction tree ... done [0.00s].\n",
            "checking subsets of size 1 2 3 4 5 6 done [0.01s].\n",
            "writing ... [74 rule(s)] done [0.00s].\n",
            "creating S4 object  ... done [0.00s].\n"
          ]
        },
        {
          "output_type": "display_data",
          "data": {
            "text/plain": [
              "set of 74 rules "
            ]
          },
          "metadata": {}
        }
      ]
    },
    {
      "cell_type": "code",
      "source": [
        "summary(params)"
      ],
      "metadata": {
        "colab": {
          "base_uri": "https://localhost:8080/",
          "height": 565
        },
        "id": "Q1TTj7fH0SNA",
        "outputId": "4508e099-0e39-41ea-e086-f7ba638c1dc7"
      },
      "execution_count": 142,
      "outputs": [
        {
          "output_type": "display_data",
          "data": {
            "text/plain": [
              "set of 74 rules\n",
              "\n",
              "rule length distribution (lhs + rhs):sizes\n",
              " 3  4  5  6 \n",
              "15 42 16  1 \n",
              "\n",
              "   Min. 1st Qu.  Median    Mean 3rd Qu.    Max. \n",
              "  3.000   4.000   4.000   4.041   4.000   6.000 \n",
              "\n",
              "summary of quality measures:\n",
              "    support           confidence        coverage             lift       \n",
              " Min.   :0.001067   Min.   :0.8000   Min.   :0.001067   Min.   : 3.356  \n",
              " 1st Qu.:0.001067   1st Qu.:0.8000   1st Qu.:0.001333   1st Qu.: 3.432  \n",
              " Median :0.001133   Median :0.8333   Median :0.001333   Median : 3.795  \n",
              " Mean   :0.001256   Mean   :0.8504   Mean   :0.001479   Mean   : 4.823  \n",
              " 3rd Qu.:0.001333   3rd Qu.:0.8889   3rd Qu.:0.001600   3rd Qu.: 4.877  \n",
              " Max.   :0.002533   Max.   :1.0000   Max.   :0.002666   Max.   :12.722  \n",
              "     count       \n",
              " Min.   : 8.000  \n",
              " 1st Qu.: 8.000  \n",
              " Median : 8.500  \n",
              " Mean   : 9.419  \n",
              " 3rd Qu.:10.000  \n",
              " Max.   :19.000  \n",
              "\n",
              "mining info:\n",
              " data ntransactions support confidence\n",
              "  df2          7501   0.001        0.8\n",
              "                                                            call\n",
              " apriori(data = df2, parameter = list(supp = 0.001, conf = 0.8))"
            ]
          },
          "metadata": {}
        }
      ]
    },
    {
      "cell_type": "code",
      "source": [
        "inspect(params[1:10])"
      ],
      "metadata": {
        "colab": {
          "base_uri": "https://localhost:8080/"
        },
        "id": "i2Q6foId0cvq",
        "outputId": "09ae74de-1ed9-49b3-ad70-c0b1e577d91b"
      },
      "execution_count": 144,
      "outputs": [
        {
          "output_type": "stream",
          "name": "stdout",
          "text": [
            "     lhs                              rhs             support     confidence\n",
            "[1]  {frozen smoothie, spinach}    => {mineral water} 0.001066524 0.8888889 \n",
            "[2]  {bacon, pancakes}             => {spaghetti}     0.001733102 0.8125000 \n",
            "[3]  {nonfat milk, turkey}         => {mineral water} 0.001199840 0.8181818 \n",
            "[4]  {ground beef, nonfat milk}    => {mineral water} 0.001599787 0.8571429 \n",
            "[5]  {mushroom cream sauce, pasta} => {escalope}      0.002532996 0.9500000 \n",
            "[6]  {milk, pasta}                 => {shrimp}        0.001599787 0.8571429 \n",
            "[7]  {cooking oil, fromage blanc}  => {mineral water} 0.001199840 0.8181818 \n",
            "[8]  {black tea, salmon}           => {mineral water} 0.001066524 0.8000000 \n",
            "[9]  {black tea, frozen smoothie}  => {milk}          0.001199840 0.8181818 \n",
            "[10] {red wine, tomato sauce}      => {chocolate}     0.001066524 0.8000000 \n",
            "     coverage    lift      count\n",
            "[1]  0.001199840  3.729058  8   \n",
            "[2]  0.002133049  4.666587 13   \n",
            "[3]  0.001466471  3.432428  9   \n",
            "[4]  0.001866418  3.595877 12   \n",
            "[5]  0.002666311 11.976387 19   \n",
            "[6]  0.001866418 11.995203 12   \n",
            "[7]  0.001466471  3.432428  9   \n",
            "[8]  0.001333156  3.356152  8   \n",
            "[9]  0.001466471  6.313973  9   \n",
            "[10] 0.001333156  4.882669  8   \n"
          ]
        }
      ]
    },
    {
      "cell_type": "code",
      "source": [
        "# sorting the rules in level of importance in terms of confidence levels\n",
        "sorted_params<-sort(params,by='confidence',decreasing=TRUE)\n",
        "inspect(sorted_params[1:10])"
      ],
      "metadata": {
        "colab": {
          "base_uri": "https://localhost:8080/"
        },
        "id": "TBL0Ugu00sDB",
        "outputId": "cbbccc89-18d3-4cf1-cbce-d6b63ea864a8"
      },
      "execution_count": 147,
      "outputs": [
        {
          "output_type": "stream",
          "name": "stdout",
          "text": [
            "     lhs                        rhs                 support confidence    coverage      lift count\n",
            "[1]  {french fries,                                                                               \n",
            "      mushroom cream sauce,                                                                       \n",
            "      pasta}                 => {escalope}      0.001066524  1.0000000 0.001066524 12.606723     8\n",
            "[2]  {ground beef,                                                                                \n",
            "      light cream,                                                                                \n",
            "      olive oil}             => {mineral water} 0.001199840  1.0000000 0.001199840  4.195190     9\n",
            "[3]  {cake,                                                                                       \n",
            "      meatballs,                                                                                  \n",
            "      mineral water}         => {milk}          0.001066524  1.0000000 0.001066524  7.717078     8\n",
            "[4]  {cake,                                                                                       \n",
            "      olive oil,                                                                                  \n",
            "      shrimp}                => {mineral water} 0.001199840  1.0000000 0.001199840  4.195190     9\n",
            "[5]  {mushroom cream sauce,                                                                       \n",
            "      pasta}                 => {escalope}      0.002532996  0.9500000 0.002666311 11.976387    19\n",
            "[6]  {red wine,                                                                                   \n",
            "      soup}                  => {mineral water} 0.001866418  0.9333333 0.001999733  3.915511    14\n",
            "[7]  {eggs,                                                                                       \n",
            "      mineral water,                                                                              \n",
            "      pasta}                 => {shrimp}        0.001333156  0.9090909 0.001466471 12.722185    10\n",
            "[8]  {herb & pepper,                                                                              \n",
            "      mineral water,                                                                              \n",
            "      rice}                  => {ground beef}   0.001333156  0.9090909 0.001466471  9.252498    10\n",
            "[9]  {ground beef,                                                                                \n",
            "      pancakes,                                                                                   \n",
            "      whole wheat rice}      => {mineral water} 0.001333156  0.9090909 0.001466471  3.813809    10\n",
            "[10] {frozen vegetables,                                                                          \n",
            "      milk,                                                                                       \n",
            "      spaghetti,                                                                                  \n",
            "      turkey}                => {mineral water} 0.001199840  0.9000000 0.001333156  3.775671     9\n"
          ]
        }
      ]
    },
    {
      "cell_type": "code",
      "source": [
        ""
      ],
      "metadata": {
        "id": "Yna0FtlP1VuE"
      },
      "execution_count": null,
      "outputs": []
    },
    {
      "cell_type": "markdown",
      "source": [
        "## Anomaly detection"
      ],
      "metadata": {
        "id": "IvjTysHx1smV"
      }
    },
    {
      "cell_type": "markdown",
      "source": [
        "You have also been requested to check whether there are any anomalies in the given sales dataset. The objective of this task being fraud detection.\n",
        "\n"
      ],
      "metadata": {
        "id": "se-59Irn15rP"
      }
    },
    {
      "cell_type": "code",
      "source": [
        "# loading and previewing the dataset\n",
        "df3<-read_csv('http://bit.ly/CarreFourSalesDataset')\n",
        "head(df3)"
      ],
      "metadata": {
        "colab": {
          "base_uri": "https://localhost:8080/",
          "height": 487
        },
        "id": "lKnpMPdw1wxo",
        "outputId": "f02ebd15-11a3-442e-96ae-d22b7eed4882"
      },
      "execution_count": 148,
      "outputs": [
        {
          "output_type": "stream",
          "name": "stderr",
          "text": [
            "\u001b[1mRows: \u001b[22m\u001b[34m1000\u001b[39m \u001b[1mColumns: \u001b[22m\u001b[34m2\u001b[39m\n",
            "\n",
            "\u001b[36m──\u001b[39m \u001b[1mColumn specification\u001b[22m \u001b[36m────────────────────────────────────────────────────────\u001b[39m\n",
            "\u001b[1mDelimiter:\u001b[22m \",\"\n",
            "\u001b[31mchr\u001b[39m (1): Date\n",
            "\u001b[32mdbl\u001b[39m (1): Sales\n",
            "\n",
            "\n",
            "\u001b[36mℹ\u001b[39m Use \u001b[30m\u001b[47m\u001b[30m\u001b[47m`spec()`\u001b[47m\u001b[30m\u001b[49m\u001b[39m to retrieve the full column specification for this data.\n",
            "\u001b[36mℹ\u001b[39m Specify the column types or set \u001b[30m\u001b[47m\u001b[30m\u001b[47m`show_col_types = FALSE`\u001b[47m\u001b[30m\u001b[49m\u001b[39m to quiet this message.\n",
            "\n"
          ]
        },
        {
          "output_type": "display_data",
          "data": {
            "text/plain": [
              "  Date      Sales   \n",
              "1 1/5/2019  548.9715\n",
              "2 3/8/2019   80.2200\n",
              "3 3/3/2019  340.5255\n",
              "4 1/27/2019 489.0480\n",
              "5 2/8/2019  634.3785\n",
              "6 3/25/2019 627.6165"
            ],
            "text/latex": "A tibble: 6 × 2\n\\begin{tabular}{ll}\n Date & Sales\\\\\n <chr> & <dbl>\\\\\n\\hline\n\t 1/5/2019  & 548.9715\\\\\n\t 3/8/2019  &  80.2200\\\\\n\t 3/3/2019  & 340.5255\\\\\n\t 1/27/2019 & 489.0480\\\\\n\t 2/8/2019  & 634.3785\\\\\n\t 3/25/2019 & 627.6165\\\\\n\\end{tabular}\n",
            "text/markdown": "\nA tibble: 6 × 2\n\n| Date &lt;chr&gt; | Sales &lt;dbl&gt; |\n|---|---|\n| 1/5/2019  | 548.9715 |\n| 3/8/2019  |  80.2200 |\n| 3/3/2019  | 340.5255 |\n| 1/27/2019 | 489.0480 |\n| 2/8/2019  | 634.3785 |\n| 3/25/2019 | 627.6165 |\n\n",
            "text/html": [
              "<table class=\"dataframe\">\n",
              "<caption>A tibble: 6 × 2</caption>\n",
              "<thead>\n",
              "\t<tr><th scope=col>Date</th><th scope=col>Sales</th></tr>\n",
              "\t<tr><th scope=col>&lt;chr&gt;</th><th scope=col>&lt;dbl&gt;</th></tr>\n",
              "</thead>\n",
              "<tbody>\n",
              "\t<tr><td>1/5/2019 </td><td>548.9715</td></tr>\n",
              "\t<tr><td>3/8/2019 </td><td> 80.2200</td></tr>\n",
              "\t<tr><td>3/3/2019 </td><td>340.5255</td></tr>\n",
              "\t<tr><td>1/27/2019</td><td>489.0480</td></tr>\n",
              "\t<tr><td>2/8/2019 </td><td>634.3785</td></tr>\n",
              "\t<tr><td>3/25/2019</td><td>627.6165</td></tr>\n",
              "</tbody>\n",
              "</table>\n"
            ]
          },
          "metadata": {}
        }
      ]
    },
    {
      "cell_type": "code",
      "source": [
        "# imprting the libraries needed\n",
        "install.packages('tibble')\n",
        "library(tibble)\n",
        "install.packages('tibbletime')\n",
        "library(tibbletime)"
      ],
      "metadata": {
        "colab": {
          "base_uri": "https://localhost:8080/"
        },
        "id": "GKfEo8C_2Q_u",
        "outputId": "6f0b9281-7d86-4ee1-b06e-3eb56311a8ce"
      },
      "execution_count": 150,
      "outputs": [
        {
          "output_type": "stream",
          "name": "stderr",
          "text": [
            "Installing package into ‘/usr/local/lib/R/site-library’\n",
            "(as ‘lib’ is unspecified)\n",
            "\n",
            "Installing package into ‘/usr/local/lib/R/site-library’\n",
            "(as ‘lib’ is unspecified)\n",
            "\n",
            "\n",
            "Attaching package: ‘tibbletime’\n",
            "\n",
            "\n",
            "The following object is masked from ‘package:stats’:\n",
            "\n",
            "    filter\n",
            "\n",
            "\n"
          ]
        }
      ]
    },
    {
      "cell_type": "code",
      "source": [
        ""
      ],
      "metadata": {
        "id": "Uvogqut22oK8"
      },
      "execution_count": null,
      "outputs": []
    }
  ]
}